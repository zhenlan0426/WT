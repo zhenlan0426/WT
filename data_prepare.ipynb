{
 "cells": [
  {
   "cell_type": "code",
   "execution_count": 1,
   "metadata": {},
   "outputs": [],
   "source": [
    "import pandas as pd\n",
    "import numpy as np\n",
    "%matplotlib inline"
   ]
  },
  {
   "cell_type": "code",
   "execution_count": 2,
   "metadata": {},
   "outputs": [],
   "source": [
    "train1 = pd.read_csv('train_2.csv')"
   ]
  },
  {
   "cell_type": "code",
   "execution_count": 3,
   "metadata": {},
   "outputs": [],
   "source": [
    "missing = train1.isnull()"
   ]
  },
  {
   "cell_type": "code",
   "execution_count": 4,
   "metadata": {},
   "outputs": [],
   "source": [
    "train1 = train1.fillna(0)"
   ]
  },
  {
   "cell_type": "code",
   "execution_count": 5,
   "metadata": {},
   "outputs": [],
   "source": [
    "train1.iloc[:,1:] = train1.iloc[:,1:].astype(np.float32)"
   ]
  },
  {
   "cell_type": "code",
   "execution_count": 6,
   "metadata": {},
   "outputs": [],
   "source": [
    "n = train1.shape[0]"
   ]
  },
  {
   "cell_type": "code",
   "execution_count": null,
   "metadata": {},
   "outputs": [],
   "source": []
  },
  {
   "cell_type": "markdown",
   "metadata": {},
   "source": [
    "Check projection period and if all in contained in training set"
   ]
  },
  {
   "cell_type": "code",
   "execution_count": null,
   "metadata": {},
   "outputs": [],
   "source": [
    "key = pd.read_csv('key_2.csv')\n",
    "extract_page = key.Page.str.extract('(.+)_....-..-..')\n",
    "extract_page = np.unique(extract_page)\n",
    "set(train1.Page) == set(extract_page)\n",
    "# True"
   ]
  },
  {
   "cell_type": "code",
   "execution_count": 10,
   "metadata": {},
   "outputs": [
    {
     "data": {
      "text/plain": [
       "62"
      ]
     },
     "execution_count": 10,
     "metadata": {},
     "output_type": "execute_result"
    }
   ],
   "source": [
    "key = pd.read_csv('key_2.csv')\n",
    "len(set(key.Page.str.slice(-10)))"
   ]
  },
  {
   "cell_type": "code",
   "execution_count": null,
   "metadata": {},
   "outputs": [],
   "source": []
  },
  {
   "cell_type": "markdown",
   "metadata": {},
   "source": [
    "Extract Page information"
   ]
  },
  {
   "cell_type": "code",
   "execution_count": 21,
   "metadata": {},
   "outputs": [],
   "source": [
    "a = train1.Page.str.split('mediawiki.org|wikimedia.org|wikipedia.org',expand=True)"
   ]
  },
  {
   "cell_type": "code",
   "execution_count": 22,
   "metadata": {},
   "outputs": [],
   "source": [
    "b = np.where(a.loc[:,2].isnull(),a.loc[:,1],a.loc[:,2])"
   ]
  },
  {
   "cell_type": "code",
   "execution_count": 23,
   "metadata": {},
   "outputs": [],
   "source": [
    "_,index_array = np.unique(b,return_inverse=True) # access & agent"
   ]
  },
  {
   "cell_type": "code",
   "execution_count": 24,
   "metadata": {},
   "outputs": [],
   "source": [
    "website_array = [train1.Page.str.contains(web).values.astype(np.int8) \\\n",
    "                 for web in ['mediawiki.org','wikimedia.org','wikipedia.org']] # website"
   ]
  },
  {
   "cell_type": "code",
   "execution_count": 25,
   "metadata": {},
   "outputs": [],
   "source": [
    "lang_array = train1.Page.str.extract('([a-z]{2}).wikipedia').fillna('nan').values.flatten()"
   ]
  },
  {
   "cell_type": "code",
   "execution_count": 26,
   "metadata": {},
   "outputs": [],
   "source": [
    "_,lang_array = np.unique(lang_array,return_inverse=True) # language"
   ]
  },
  {
   "cell_type": "code",
   "execution_count": 28,
   "metadata": {},
   "outputs": [],
   "source": [
    "Page_X = np.stack([np.arange(train1.shape[0]),lang_array,index_array] + website_array,1)"
   ]
  },
  {
   "cell_type": "code",
   "execution_count": 137,
   "metadata": {},
   "outputs": [],
   "source": [
    "np.savetxt('Page_X',Page_X,fmt=\"%d\",delimiter=\",\")"
   ]
  },
  {
   "cell_type": "code",
   "execution_count": 8,
   "metadata": {},
   "outputs": [],
   "source": [
    "Page_X = np.loadtxt('Page_X',delimiter=\",\")"
   ]
  },
  {
   "cell_type": "code",
   "execution_count": null,
   "metadata": {},
   "outputs": [],
   "source": []
  },
  {
   "cell_type": "markdown",
   "metadata": {},
   "source": [
    "Extract date information"
   ]
  },
  {
   "cell_type": "code",
   "execution_count": 9,
   "metadata": {},
   "outputs": [],
   "source": [
    "date_index=pd.to_datetime(train1.columns[1:]).to_series().reset_index(drop=True)"
   ]
  },
  {
   "cell_type": "code",
   "execution_count": 10,
   "metadata": {},
   "outputs": [],
   "source": [
    "def extract_date_info(timestamp,mss):\n",
    "    return np.array([mss, timestamp.weekday(), timestamp.month, timestamp.day])"
   ]
  },
  {
   "cell_type": "code",
   "execution_count": null,
   "metadata": {},
   "outputs": [],
   "source": []
  },
  {
   "cell_type": "code",
   "execution_count": null,
   "metadata": {},
   "outputs": [],
   "source": []
  },
  {
   "cell_type": "code",
   "execution_count": null,
   "metadata": {},
   "outputs": [],
   "source": []
  },
  {
   "cell_type": "markdown",
   "metadata": {},
   "source": [
    "Create training and test data for GBM"
   ]
  },
  {
   "cell_type": "code",
   "execution_count": 11,
   "metadata": {},
   "outputs": [],
   "source": [
    "max_ = lambda df,start,interval: np.max(df.iloc[:,start-interval:start].values,1)\n",
    "min_ = lambda df,start,interval: np.min(df.iloc[:,start-interval:start].values,1)\n",
    "std_ = lambda df,start,interval: np.std(df.iloc[:,start-interval:start].values,1)\n",
    "mean_ = lambda df,start,interval: np.mean(df.iloc[:,start-interval:start].values,1)\n",
    "growth_ = lambda df,start,interval: np.mean(df.iloc[:,start-interval:start],1) -\\\n",
    "                                    np.mean(df.iloc[:,start-2*interval:start-interval],1)"
   ]
  },
  {
   "cell_type": "code",
   "execution_count": 12,
   "metadata": {},
   "outputs": [],
   "source": [
    "fun_list = [max_,min_,std_,mean_,growth_]"
   ]
  },
  {
   "cell_type": "code",
   "execution_count": 13,
   "metadata": {},
   "outputs": [],
   "source": [
    "interval_list = [14,30,60]"
   ]
  },
  {
   "cell_type": "code",
   "execution_count": 14,
   "metadata": {},
   "outputs": [],
   "source": [
    "T = train1.shape[1]"
   ]
  },
  {
   "cell_type": "code",
   "execution_count": null,
   "metadata": {},
   "outputs": [],
   "source": []
  },
  {
   "cell_type": "markdown",
   "metadata": {},
   "source": [
    "Test dataset"
   ]
  },
  {
   "cell_type": "code",
   "execution_count": 230,
   "metadata": {},
   "outputs": [],
   "source": [
    "j = T - 64"
   ]
  },
  {
   "cell_type": "code",
   "execution_count": 231,
   "metadata": {},
   "outputs": [],
   "source": [
    "Lookback_X = np.stack([fun(train1,j,interval) for fun in fun_list for interval in interval_list],1)"
   ]
  },
  {
   "cell_type": "code",
   "execution_count": 232,
   "metadata": {
    "scrolled": true
   },
   "outputs": [],
   "source": [
    "with open('testData','wb') as f:\n",
    "    for i in range(j+2,j+64):\n",
    "        temp = np.concatenate([train1.iloc[:,i].values[:,np.newaxis],\\\n",
    "                               Page_X,\\\n",
    "                               np.broadcast_to(extract_date_info(date_index[i-1],i-j),(n,4)),\\\n",
    "                               Lookback_X,\\\n",
    "                               train1.iloc[:,j-5:j].values],1).astype(np.float32)\n",
    "        nonmissing_index = np.logical_not(missing.iloc[:,i].values)\n",
    "        np.savetxt(f,temp[nonmissing_index],delimiter=',')"
   ]
  },
  {
   "cell_type": "code",
   "execution_count": null,
   "metadata": {},
   "outputs": [],
   "source": []
  },
  {
   "cell_type": "markdown",
   "metadata": {},
   "source": [
    "Training dataset"
   ]
  },
  {
   "cell_type": "code",
   "execution_count": 235,
   "metadata": {},
   "outputs": [],
   "source": [
    "downSampleRate = 0.1"
   ]
  },
  {
   "cell_type": "code",
   "execution_count": 242,
   "metadata": {},
   "outputs": [],
   "source": [
    "with open('trainData','wb') as f:\n",
    "    for j in range(T-65*2,250,-80):\n",
    "        Lookback_X = np.stack([fun(train1,j,interval) for fun in fun_list for interval in interval_list],1)\n",
    "        for i in range(j+2,j+64):\n",
    "            temp = np.concatenate([train1.iloc[:,i].values[:,np.newaxis],\\\n",
    "                                   Page_X,\\\n",
    "                                   np.broadcast_to(extract_date_info(date_index[i-1],i-j),(n,4)),\\\n",
    "                                   Lookback_X,\\\n",
    "                                   train1.iloc[:,j-10:j].values],1).astype(np.float32)\n",
    "            nonmissing_index = np.logical_not(missing.iloc[:,i].values)\n",
    "            np.savetxt(f,temp[nonmissing_index][np.random.rand(nonmissing_index.sum())<downSampleRate],delimiter=',')"
   ]
  },
  {
   "cell_type": "code",
   "execution_count": null,
   "metadata": {},
   "outputs": [],
   "source": []
  },
  {
   "cell_type": "code",
   "execution_count": null,
   "metadata": {},
   "outputs": [],
   "source": []
  },
  {
   "cell_type": "markdown",
   "metadata": {},
   "source": [
    "Save to binary lgbm.Dataset format"
   ]
  },
  {
   "cell_type": "code",
   "execution_count": 15,
   "metadata": {},
   "outputs": [],
   "source": [
    "j = T - 64"
   ]
  },
  {
   "cell_type": "code",
   "execution_count": 16,
   "metadata": {},
   "outputs": [],
   "source": [
    "Lookback_X = np.stack([fun(train1,j,interval) for fun in fun_list for interval in interval_list],1)"
   ]
  },
  {
   "cell_type": "code",
   "execution_count": 17,
   "metadata": {},
   "outputs": [],
   "source": [
    "chunks = 10"
   ]
  },
  {
   "cell_type": "code",
   "execution_count": null,
   "metadata": {},
   "outputs": [],
   "source": [
    "for k in range(chunks):\n",
    "    for i in range(j+2,j+64):\n",
    "        y_ = train1.iloc[:,i].values\n",
    "        temp = np.concatenate([Page_X,\\\n",
    "                               np.broadcast_to(extract_date_info(date_index[i-1],i-j),(n,4)),\\\n",
    "                               Lookback_X,\\\n",
    "                               train1.iloc[:,j-5:j].values],1).astype(np.float32)\n",
    "        nonmissing_index = np.logical_not(missing.iloc[:,i].values)\n",
    "        batch_ = nonmissing_index.sum()//chunks\n",
    "        "
   ]
  },
  {
   "cell_type": "code",
   "execution_count": 18,
   "metadata": {},
   "outputs": [
    {
     "data": {
      "text/plain": [
       "3"
      ]
     },
     "execution_count": 18,
     "metadata": {},
     "output_type": "execute_result"
    }
   ],
   "source": [
    "10//3"
   ]
  },
  {
   "cell_type": "code",
   "execution_count": null,
   "metadata": {},
   "outputs": [],
   "source": []
  },
  {
   "cell_type": "code",
   "execution_count": null,
   "metadata": {},
   "outputs": [],
   "source": []
  },
  {
   "cell_type": "code",
   "execution_count": null,
   "metadata": {},
   "outputs": [],
   "source": []
  },
  {
   "cell_type": "code",
   "execution_count": null,
   "metadata": {},
   "outputs": [],
   "source": []
  },
  {
   "cell_type": "code",
   "execution_count": null,
   "metadata": {},
   "outputs": [],
   "source": []
  }
 ],
 "metadata": {
  "kernelspec": {
   "display_name": "Python 3",
   "language": "python",
   "name": "python3"
  },
  "language_info": {
   "codemirror_mode": {
    "name": "ipython",
    "version": 3
   },
   "file_extension": ".py",
   "mimetype": "text/x-python",
   "name": "python",
   "nbconvert_exporter": "python",
   "pygments_lexer": "ipython3",
   "version": "3.6.6"
  }
 },
 "nbformat": 4,
 "nbformat_minor": 2
}
