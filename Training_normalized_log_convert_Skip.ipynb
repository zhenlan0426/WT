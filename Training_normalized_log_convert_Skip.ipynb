{
 "cells": [
  {
   "cell_type": "code",
   "execution_count": 1,
   "metadata": {},
   "outputs": [],
   "source": [
    "import numpy as np\n",
    "from torch.utils.data import DataLoader\n",
    "from functions import *\n",
    "from torch.nn import GRU,Conv1d,Linear,ReLU,Sequential,MSELoss,L1Loss,LeakyReLU,Dropout\n",
    "from torch.optim import Adam\n",
    "from pytorch_util import *\n",
    "from pytorch_models import ConvBatchRelu1D,GRU_NCL,skipConnectWrap1d"
   ]
  },
  {
   "cell_type": "code",
   "execution_count": 2,
   "metadata": {},
   "outputs": [],
   "source": [
    "long_page = np.load('../Data/long_page.npy')\n",
    "long_value = np.load('../Data/long_value.npy')\n",
    "start_index = np.load('../Data/start_index.npy')\n",
    "stds = np.load('../Data/stds_log.npy')\n",
    "means = np.load('../Data/means_log.npy')\n",
    "long_normal_value = np.load('../Data/long_lognormal_value.npy')"
   ]
  },
  {
   "cell_type": "code",
   "execution_count": 3,
   "metadata": {},
   "outputs": [],
   "source": [
    "# to account for look back period 365 + 60\n",
    "start_index = start_index + 430"
   ]
  },
  {
   "cell_type": "code",
   "execution_count": 4,
   "metadata": {},
   "outputs": [],
   "source": [
    "## to change ##\n",
    "batch_size = 64\n",
    "clip = .5"
   ]
  },
  {
   "cell_type": "code",
   "execution_count": null,
   "metadata": {},
   "outputs": [],
   "source": []
  },
  {
   "cell_type": "code",
   "execution_count": 5,
   "metadata": {},
   "outputs": [],
   "source": [
    "# baseline model\n",
    "# yhat = long_normal_value[:,803-61:803-60]\n",
    "# y = long_normal_value[:,803-60:]\n",
    "# SMAPE_np(y,yhat)\n",
    "# >> 106.31\n",
    "# yhat = long_normal_value[:,803-61:803-60]\n",
    "# y = long_normal_value[:,803-60:]\n",
    "# np.mean(np.square(y - yhat))\n",
    "# >>> 1.1114173"
   ]
  },
  {
   "cell_type": "code",
   "execution_count": null,
   "metadata": {},
   "outputs": [],
   "source": []
  },
  {
   "cell_type": "code",
   "execution_count": 5,
   "metadata": {},
   "outputs": [],
   "source": [
    "# set up data loader\n",
    "train_gen = SequenceGen(long_value,long_normal_value,start_index,stds,means,useMean=True)\n",
    "train_gen = DataLoader(train_gen,batch_size,True,num_workers=3,drop_last=True)\n",
    "\n",
    "val_gen = SequenceGen(long_value,long_normal_value,start_index,stds,means,random=False,useMean=True)\n",
    "val_gen = DataLoader(val_gen,batch_size,False,num_workers=3)\n",
    "\n",
    "train_gen_nor = SequenceGenNormalized(long_normal_value,start_index)\n",
    "train_gen_nor = DataLoader(train_gen_nor,batch_size,True,num_workers=3,drop_last=True)\n",
    "\n",
    "val_gen_nor = SequenceGenNormalized(long_normal_value,start_index,random=False)\n",
    "val_gen_nor = DataLoader(val_gen_nor,batch_size)"
   ]
  },
  {
   "cell_type": "code",
   "execution_count": null,
   "metadata": {},
   "outputs": [],
   "source": []
  },
  {
   "cell_type": "code",
   "execution_count": 6,
   "metadata": {},
   "outputs": [],
   "source": [
    "conv = Sequential(ConcatWrap1d(ConvBatchRelu1D(3,5,3,padding=1)),\n",
    "                  Dropout(0.25),\n",
    "                  ConcatWrap1d(ConvBatchRelu1D(8,8,3,padding=1)),\n",
    "                  Dropout(0.25),\n",
    "                  ConcatWrap1d(ConvBatchRelu1D(16,16,3,padding=1)),\n",
    "                  Dropout(0.5),\n",
    "                  ConcatWrap1d(ConvBatchRelu1D(32,32,3,padding=1)),\n",
    "                  Dropout(0.5))"
   ]
  },
  {
   "cell_type": "code",
   "execution_count": 7,
   "metadata": {},
   "outputs": [],
   "source": [
    "rnn = GRU_NCL(64,64,2,batch_first=True,dropout=0.5,bidirectional=True)"
   ]
  },
  {
   "cell_type": "code",
   "execution_count": 8,
   "metadata": {},
   "outputs": [],
   "source": [
    "seq_model = Sequential(conv,rnn)"
   ]
  },
  {
   "cell_type": "code",
   "execution_count": 9,
   "metadata": {},
   "outputs": [],
   "source": [
    "linear = Sequential(Linear(128,64),LeakyReLU(0.1,True),Dropout(0.5),Linear(64,1))"
   ]
  },
  {
   "cell_type": "code",
   "execution_count": 10,
   "metadata": {},
   "outputs": [],
   "source": [
    "convert = Sequential(Linear(120,60),LeakyReLU(0.1,True),Dropout(0.5))"
   ]
  },
  {
   "cell_type": "code",
   "execution_count": 11,
   "metadata": {},
   "outputs": [],
   "source": [
    "# model trained on normalized data\n",
    "model_nor = CNN_RNN2seq_normalized_NCL(seq_model,linear,convert).to('cuda:0')"
   ]
  },
  {
   "cell_type": "code",
   "execution_count": 12,
   "metadata": {},
   "outputs": [],
   "source": [
    "loss_func_nor = loss_func_generator_normalized(MSELoss())\n",
    "# loss_func_nor = loss_func_generator_normalized(L1Loss())\n",
    "#loss_func_nor = loss_func_generator_normalized(SMAPE)"
   ]
  },
  {
   "cell_type": "code",
   "execution_count": 13,
   "metadata": {},
   "outputs": [],
   "source": [
    "opt = Adam(trainable_parameter(model_nor),lr=1e-3)"
   ]
  },
  {
   "cell_type": "code",
   "execution_count": 14,
   "metadata": {},
   "outputs": [
    {
     "ename": "RuntimeError",
     "evalue": "one of the variables needed for gradient computation has been modified by an inplace operation",
     "output_type": "error",
     "traceback": [
      "\u001b[0;31m---------------------------------------------------------------------------\u001b[0m",
      "\u001b[0;31mRuntimeError\u001b[0m                              Traceback (most recent call last)",
      "\u001b[0;32m<ipython-input-14-323cd90822d4>\u001b[0m in \u001b[0;36m<module>\u001b[0;34m\u001b[0m\n\u001b[0;32m----> 1\u001b[0;31m \u001b[0mmodel_nor\u001b[0m \u001b[0;34m=\u001b[0m \u001b[0mfit\u001b[0m\u001b[0;34m(\u001b[0m\u001b[0;36m5\u001b[0m\u001b[0;34m,\u001b[0m \u001b[0mmodel_nor\u001b[0m\u001b[0;34m,\u001b[0m \u001b[0mloss_func_nor\u001b[0m\u001b[0;34m,\u001b[0m \u001b[0mopt\u001b[0m\u001b[0;34m,\u001b[0m \u001b[0mtrain_gen_nor\u001b[0m\u001b[0;34m,\u001b[0m \u001b[0mval_gen_nor\u001b[0m\u001b[0;34m,\u001b[0m\u001b[0mclip\u001b[0m\u001b[0;34m)\u001b[0m\u001b[0;34m\u001b[0m\u001b[0;34m\u001b[0m\u001b[0m\n\u001b[0m",
      "\u001b[0;32m~/Desktop/kaggle/utility/pytorch_util.py\u001b[0m in \u001b[0;36mfit\u001b[0;34m(epochs, model, loss_func, opt, train_dl, valid_dl, clip, clip_fun, lossBest, patience)\u001b[0m\n\u001b[1;32m    140\u001b[0m         \u001b[0;32mfor\u001b[0m \u001b[0mdata\u001b[0m \u001b[0;32min\u001b[0m \u001b[0mtrain_dl\u001b[0m\u001b[0;34m:\u001b[0m\u001b[0;34m\u001b[0m\u001b[0;34m\u001b[0m\u001b[0m\n\u001b[1;32m    141\u001b[0m             \u001b[0mloss\u001b[0m \u001b[0;34m=\u001b[0m \u001b[0mloss_func\u001b[0m\u001b[0;34m(\u001b[0m\u001b[0mmodel\u001b[0m\u001b[0;34m,\u001b[0m\u001b[0mdata2cuda\u001b[0m\u001b[0;34m(\u001b[0m\u001b[0mdata\u001b[0m\u001b[0;34m)\u001b[0m\u001b[0;34m)\u001b[0m\u001b[0;34m\u001b[0m\u001b[0;34m\u001b[0m\u001b[0m\n\u001b[0;32m--> 142\u001b[0;31m             \u001b[0mloss\u001b[0m\u001b[0;34m.\u001b[0m\u001b[0mbackward\u001b[0m\u001b[0;34m(\u001b[0m\u001b[0;34m)\u001b[0m\u001b[0;34m\u001b[0m\u001b[0;34m\u001b[0m\u001b[0m\n\u001b[0m\u001b[1;32m    143\u001b[0m             \u001b[0;32mif\u001b[0m \u001b[0mclip\u001b[0m\u001b[0;34m!=\u001b[0m\u001b[0;36m0\u001b[0m\u001b[0;34m:\u001b[0m\u001b[0;34m\u001b[0m\u001b[0;34m\u001b[0m\u001b[0m\n\u001b[1;32m    144\u001b[0m                 \u001b[0mclip_fun\u001b[0m\u001b[0;34m(\u001b[0m\u001b[0mparas\u001b[0m\u001b[0;34m,\u001b[0m\u001b[0mclip\u001b[0m\u001b[0;34m)\u001b[0m\u001b[0;34m\u001b[0m\u001b[0;34m\u001b[0m\u001b[0m\n",
      "\u001b[0;32m~/anaconda3/envs/pytorch/lib/python3.7/site-packages/torch/tensor.py\u001b[0m in \u001b[0;36mbackward\u001b[0;34m(self, gradient, retain_graph, create_graph)\u001b[0m\n\u001b[1;32m    100\u001b[0m                 \u001b[0mproducts\u001b[0m\u001b[0;34m.\u001b[0m \u001b[0mDefaults\u001b[0m \u001b[0mto\u001b[0m\u001b[0;31m \u001b[0m\u001b[0;31m`\u001b[0m\u001b[0;31m`\u001b[0m\u001b[0;32mFalse\u001b[0m\u001b[0;31m`\u001b[0m\u001b[0;31m`\u001b[0m\u001b[0;34m.\u001b[0m\u001b[0;34m\u001b[0m\u001b[0;34m\u001b[0m\u001b[0m\n\u001b[1;32m    101\u001b[0m         \"\"\"\n\u001b[0;32m--> 102\u001b[0;31m         \u001b[0mtorch\u001b[0m\u001b[0;34m.\u001b[0m\u001b[0mautograd\u001b[0m\u001b[0;34m.\u001b[0m\u001b[0mbackward\u001b[0m\u001b[0;34m(\u001b[0m\u001b[0mself\u001b[0m\u001b[0;34m,\u001b[0m \u001b[0mgradient\u001b[0m\u001b[0;34m,\u001b[0m \u001b[0mretain_graph\u001b[0m\u001b[0;34m,\u001b[0m \u001b[0mcreate_graph\u001b[0m\u001b[0;34m)\u001b[0m\u001b[0;34m\u001b[0m\u001b[0;34m\u001b[0m\u001b[0m\n\u001b[0m\u001b[1;32m    103\u001b[0m \u001b[0;34m\u001b[0m\u001b[0m\n\u001b[1;32m    104\u001b[0m     \u001b[0;32mdef\u001b[0m \u001b[0mregister_hook\u001b[0m\u001b[0;34m(\u001b[0m\u001b[0mself\u001b[0m\u001b[0;34m,\u001b[0m \u001b[0mhook\u001b[0m\u001b[0;34m)\u001b[0m\u001b[0;34m:\u001b[0m\u001b[0;34m\u001b[0m\u001b[0;34m\u001b[0m\u001b[0m\n",
      "\u001b[0;32m~/anaconda3/envs/pytorch/lib/python3.7/site-packages/torch/autograd/__init__.py\u001b[0m in \u001b[0;36mbackward\u001b[0;34m(tensors, grad_tensors, retain_graph, create_graph, grad_variables)\u001b[0m\n\u001b[1;32m     88\u001b[0m     Variable._execution_engine.run_backward(\n\u001b[1;32m     89\u001b[0m         \u001b[0mtensors\u001b[0m\u001b[0;34m,\u001b[0m \u001b[0mgrad_tensors\u001b[0m\u001b[0;34m,\u001b[0m \u001b[0mretain_graph\u001b[0m\u001b[0;34m,\u001b[0m \u001b[0mcreate_graph\u001b[0m\u001b[0;34m,\u001b[0m\u001b[0;34m\u001b[0m\u001b[0;34m\u001b[0m\u001b[0m\n\u001b[0;32m---> 90\u001b[0;31m         allow_unreachable=True)  # allow_unreachable flag\n\u001b[0m\u001b[1;32m     91\u001b[0m \u001b[0;34m\u001b[0m\u001b[0m\n\u001b[1;32m     92\u001b[0m \u001b[0;34m\u001b[0m\u001b[0m\n",
      "\u001b[0;31mRuntimeError\u001b[0m: one of the variables needed for gradient computation has been modified by an inplace operation"
     ]
    }
   ],
   "source": [
    "model_nor = fit(5, model_nor, loss_func_nor, opt, train_gen_nor, val_gen_nor,clip)"
   ]
  },
  {
   "cell_type": "code",
   "execution_count": 25,
   "metadata": {},
   "outputs": [
    {
     "name": "stdout",
     "output_type": "stream",
     "text": [
      "epoch:0, train_loss:0.777988509501818, val_loss:0.8216824531555176\n",
      "Training completed in 44.527931928634644s\n"
     ]
    }
   ],
   "source": [
    "model_nor = fit(1, model_nor, loss_func_nor, opt, train_gen_nor, val_gen_nor,clip)"
   ]
  },
  {
   "cell_type": "code",
   "execution_count": null,
   "metadata": {},
   "outputs": [],
   "source": []
  },
  {
   "cell_type": "code",
   "execution_count": null,
   "metadata": {},
   "outputs": [],
   "source": []
  },
  {
   "cell_type": "code",
   "execution_count": 26,
   "metadata": {},
   "outputs": [],
   "source": [
    "model = CNN_RNN2seq_logNormalized_NCL(seq_model,linear,convert).to('cuda:0')"
   ]
  },
  {
   "cell_type": "code",
   "execution_count": 27,
   "metadata": {},
   "outputs": [],
   "source": [
    "opt = Adam(trainable_parameter(model),lr=1e-4)"
   ]
  },
  {
   "cell_type": "code",
   "execution_count": 28,
   "metadata": {},
   "outputs": [],
   "source": [
    "loss_func = loss_func_generator(SMAPE)"
   ]
  },
  {
   "cell_type": "code",
   "execution_count": 29,
   "metadata": {},
   "outputs": [
    {
     "name": "stdout",
     "output_type": "stream",
     "text": [
      "epoch:0, train_loss:37.88876694694084, val_loss:36.922828674316406\n",
      "epoch:1, train_loss:37.79922653059885, val_loss:36.890682220458984\n",
      "epoch:2, train_loss:37.71661737965796, val_loss:36.64965057373047\n",
      "Training completed in 158.67075490951538s\n"
     ]
    }
   ],
   "source": [
    "model = fit(3, model, loss_func, opt, train_gen, val_gen,clip)"
   ]
  },
  {
   "cell_type": "code",
   "execution_count": 30,
   "metadata": {},
   "outputs": [
    {
     "name": "stdout",
     "output_type": "stream",
     "text": [
      "epoch:0, train_loss:37.58995795867604, val_loss:36.603302001953125\n",
      "epoch:1, train_loss:37.543538613393515, val_loss:36.41912078857422\n",
      "epoch:2, train_loss:37.499908486796166, val_loss:36.63462829589844\n",
      "Training completed in 159.22054409980774s\n"
     ]
    }
   ],
   "source": [
    "model = fit(3, model, loss_func, opt, train_gen, val_gen,clip)"
   ]
  },
  {
   "cell_type": "code",
   "execution_count": 31,
   "metadata": {},
   "outputs": [
    {
     "name": "stdout",
     "output_type": "stream",
     "text": [
      "epoch:0, train_loss:37.42186022150702, val_loss:36.4130973815918\n",
      "epoch:1, train_loss:37.43719141075648, val_loss:36.77753448486328\n",
      "epoch:2, train_loss:37.41057199665919, val_loss:36.195472717285156\n",
      "Training completed in 160.05372047424316s\n"
     ]
    }
   ],
   "source": [
    "model = fit(3, model, loss_func, opt, train_gen, val_gen,clip)"
   ]
  },
  {
   "cell_type": "code",
   "execution_count": 32,
   "metadata": {},
   "outputs": [
    {
     "name": "stdout",
     "output_type": "stream",
     "text": [
      "epoch:0, train_loss:37.33798809051514, val_loss:36.38883590698242\n",
      "epoch:1, train_loss:37.36783977963146, val_loss:36.219600677490234\n",
      "epoch:2, train_loss:37.27405398670256, val_loss:36.03410720825195\n",
      "Training completed in 159.25932550430298s\n"
     ]
    }
   ],
   "source": [
    "model = fit(3, model, loss_func, opt, train_gen, val_gen,clip)"
   ]
  },
  {
   "cell_type": "code",
   "execution_count": 33,
   "metadata": {},
   "outputs": [
    {
     "name": "stdout",
     "output_type": "stream",
     "text": [
      "epoch:0, train_loss:37.281399445212564, val_loss:36.45156478881836\n",
      "epoch:1, train_loss:37.24218135596557, val_loss:36.0681037902832\n",
      "epoch:2, train_loss:37.23800328605533, val_loss:35.887428283691406\n",
      "Training completed in 159.996484041214s\n"
     ]
    }
   ],
   "source": [
    "model = fit(3, model, loss_func, opt, train_gen, val_gen,clip)"
   ]
  },
  {
   "cell_type": "code",
   "execution_count": null,
   "metadata": {},
   "outputs": [],
   "source": []
  },
  {
   "cell_type": "code",
   "execution_count": null,
   "metadata": {},
   "outputs": [],
   "source": []
  }
 ],
 "metadata": {
  "kernelspec": {
   "display_name": "Python 3",
   "language": "python",
   "name": "python3"
  },
  "language_info": {
   "codemirror_mode": {
    "name": "ipython",
    "version": 3
   },
   "file_extension": ".py",
   "mimetype": "text/x-python",
   "name": "python",
   "nbconvert_exporter": "python",
   "pygments_lexer": "ipython3",
   "version": "3.7.2"
  }
 },
 "nbformat": 4,
 "nbformat_minor": 2
}
