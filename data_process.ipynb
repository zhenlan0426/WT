{
 "cells": [
  {
   "cell_type": "code",
   "execution_count": 1,
   "metadata": {},
   "outputs": [],
   "source": [
    "import pandas as pd\n",
    "import numpy as np\n",
    "from sklearn.preprocessing import OneHotEncoder"
   ]
  },
  {
   "cell_type": "code",
   "execution_count": 2,
   "metadata": {},
   "outputs": [],
   "source": [
    "train1  = pd.read_csv('../Data/train_2.csv')"
   ]
  },
  {
   "cell_type": "code",
   "execution_count": null,
   "metadata": {},
   "outputs": [],
   "source": []
  },
  {
   "cell_type": "markdown",
   "metadata": {},
   "source": [
    "Generate Page features"
   ]
  },
  {
   "cell_type": "code",
   "execution_count": 10,
   "metadata": {},
   "outputs": [],
   "source": [
    "a = train1.Page.str.split('mediawiki.org|wikimedia.org|wikipedia.org',expand=True)\n",
    "b = np.where(a.loc[:,2].isnull(),a.loc[:,1],a.loc[:,2])\n",
    "_,index_array = np.unique(b,return_inverse=True)\n",
    "website_array = [train1.Page.str.contains(web).values.astype(np.int8) \\\n",
    "                 for web in ['mediawiki.org','wikimedia.org','wikipedia.org']] # website\n",
    "lang_array = train1.Page.str.extract('([a-z]{2}).wikipedia').fillna('nan').values.flatten()\n",
    "_,lang_array = np.unique(lang_array,return_inverse=True) # language"
   ]
  },
  {
   "cell_type": "code",
   "execution_count": 25,
   "metadata": {},
   "outputs": [],
   "source": [
    "Page_X = \\\n",
    "np.concatenate([OneHotEncoder(dtype=np.float32,sparse=False,categories='auto').fit_transform(lang_array[:,np.newaxis]),\\\n",
    "                OneHotEncoder(dtype=np.float32,sparse=False,categories='auto').fit_transform(index_array[:,np.newaxis]),\\\n",
    "                np.stack(website_array,1)],1)"
   ]
  },
  {
   "cell_type": "code",
   "execution_count": 33,
   "metadata": {},
   "outputs": [],
   "source": [
    "np.save('../Data/Page_X.npy',Page_X)"
   ]
  },
  {
   "cell_type": "code",
   "execution_count": null,
   "metadata": {},
   "outputs": [],
   "source": []
  },
  {
   "cell_type": "markdown",
   "metadata": {},
   "source": [
    "Save the rest"
   ]
  },
  {
   "cell_type": "code",
   "execution_count": 43,
   "metadata": {},
   "outputs": [],
   "source": [
    "train1 = train1.iloc[:,1:]\n",
    "IsMissing = train1.isnull().values\n",
    "value = train1.T.fillna(pd.Series(np.nanmean(train1.values,1),train1.index),axis=0)\n",
    "value = value.T.values.astype(np.float32)\n",
    "start_index = np.argmin(IsMissing,1)\n",
    "date_index=pd.to_datetime(train1.columns).to_series().reset_index(drop=True)"
   ]
  },
  {
   "cell_type": "code",
   "execution_count": 111,
   "metadata": {},
   "outputs": [],
   "source": [
    "np.save('../Data/value.npy',value)\n",
    "np.save('../Data/IsMissing.npy',IsMissing)\n",
    "np.save('../Data/start_index.npy',start_index)"
   ]
  },
  {
   "cell_type": "code",
   "execution_count": 112,
   "metadata": {},
   "outputs": [],
   "source": [
    "date_index.to_pickle('../Data/date_index')"
   ]
  },
  {
   "cell_type": "code",
   "execution_count": null,
   "metadata": {},
   "outputs": [],
   "source": []
  },
  {
   "cell_type": "code",
   "execution_count": null,
   "metadata": {},
   "outputs": [],
   "source": []
  },
  {
   "cell_type": "code",
   "execution_count": null,
   "metadata": {},
   "outputs": [],
   "source": []
  }
 ],
 "metadata": {
  "kernelspec": {
   "display_name": "Python 3",
   "language": "python",
   "name": "python3"
  },
  "language_info": {
   "codemirror_mode": {
    "name": "ipython",
    "version": 3
   },
   "file_extension": ".py",
   "mimetype": "text/x-python",
   "name": "python",
   "nbconvert_exporter": "python",
   "pygments_lexer": "ipython3",
   "version": "3.6.6"
  },
  "toc": {
   "base_numbering": 1,
   "nav_menu": {},
   "number_sections": true,
   "sideBar": true,
   "skip_h1_title": false,
   "title_cell": "Table of Contents",
   "title_sidebar": "Contents",
   "toc_cell": false,
   "toc_position": {},
   "toc_section_display": true,
   "toc_window_display": false
  }
 },
 "nbformat": 4,
 "nbformat_minor": 2
}
