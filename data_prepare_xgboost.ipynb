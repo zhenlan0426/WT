{
 "cells": [
  {
   "cell_type": "code",
   "execution_count": 1,
   "metadata": {
    "collapsed": true
   },
   "outputs": [],
   "source": [
    "import pandas as pd\n",
    "import numpy as np\n",
    "import cdb\n",
    "from sklearn.preprocessing import OneHotEncoder\n",
    "import timeit\n",
    "import xgboost as xgb"
   ]
  },
  {
   "cell_type": "code",
   "execution_count": 2,
   "metadata": {
    "collapsed": true,
    "scrolled": true
   },
   "outputs": [],
   "source": [
    "store = cdb.use('mrg')\n",
    "with store.open(\"/e737253/train_2.csv\",'rb') as f:\n",
    "    train1  = pd.read_csv(f)"
   ]
  },
  {
   "cell_type": "code",
   "execution_count": 3,
   "metadata": {
    "collapsed": true
   },
   "outputs": [],
   "source": [
    "missing = train1.isnull()\n",
    "train1 = train1.fillna(0)\n",
    "train1.iloc[:,1:] = train1.iloc[:,1:].astype(np.float32)\n",
    "n = train1.shape[0]"
   ]
  },
  {
   "cell_type": "code",
   "execution_count": null,
   "metadata": {
    "collapsed": true
   },
   "outputs": [],
   "source": []
  },
  {
   "cell_type": "code",
   "execution_count": 4,
   "metadata": {},
   "outputs": [
    {
     "name": "stderr",
     "output_type": "stream",
     "text": [
      "/apps/conda/envs/ml_py36.18.06.r2/lib/python3.6/site-packages/ipykernel/__main__.py:5: FutureWarning: currently extract(expand=None) means expand=False (return Index/Series/DataFrame) but in a future version of pandas this will be changed to expand=True (return DataFrame)\n"
     ]
    }
   ],
   "source": [
    "a = train1.Page.str.split('mediawiki.org|wikimedia.org|wikipedia.org',expand=True)\n",
    "b = np.where(a.loc[:,2].isnull(),a.loc[:,1],a.loc[:,2])\n",
    "_,index_array = np.unique(b,return_inverse=True) # access & agent\n",
    "website_array = [train1.Page.str.contains(web).values.astype(np.int8) \\\n",
    "                 for web in ['mediawiki.org','wikimedia.org','wikipedia.org']] # website\n",
    "lang_array = train1.Page.str.extract('([a-z]{2}).wikipedia').fillna('nan').values.flatten()\n",
    "_,lang_array = np.unique(lang_array,return_inverse=True) # language"
   ]
  },
  {
   "cell_type": "code",
   "execution_count": 5,
   "metadata": {
    "collapsed": true
   },
   "outputs": [],
   "source": [
    "Page_X = \\\n",
    "np.concatenate([OneHotEncoder(dtype=np.float32,sparse=False).fit_transform(lang_array[:,np.newaxis]),\\\n",
    "                OneHotEncoder(dtype=np.float32,sparse=False).fit_transform(index_array[:,np.newaxis]),\\\n",
    "                np.stack(website_array,1)],1)"
   ]
  },
  {
   "cell_type": "code",
   "execution_count": null,
   "metadata": {
    "collapsed": true
   },
   "outputs": [],
   "source": []
  },
  {
   "cell_type": "code",
   "execution_count": 6,
   "metadata": {
    "collapsed": true
   },
   "outputs": [],
   "source": [
    "date_index=pd.to_datetime(train1.columns[1:]).to_series().reset_index(drop=True)\n",
    "def extract_date_info(timestamp,mss):\n",
    "    return np.array([mss, timestamp.weekday(), timestamp.month, timestamp.day, \\\n",
    "                     timestamp.dayofyear,timestamp.year])"
   ]
  },
  {
   "cell_type": "code",
   "execution_count": 7,
   "metadata": {
    "collapsed": true
   },
   "outputs": [],
   "source": [
    "d = extract_date_info(date_index[3],3).shape[0]"
   ]
  },
  {
   "cell_type": "code",
   "execution_count": null,
   "metadata": {
    "collapsed": true
   },
   "outputs": [],
   "source": []
  },
  {
   "cell_type": "code",
   "execution_count": 8,
   "metadata": {
    "collapsed": true
   },
   "outputs": [],
   "source": [
    "max_ = lambda df,start,interval: np.max(df.iloc[:,start-interval:start].values,1)\n",
    "min_ = lambda df,start,interval: np.min(df.iloc[:,start-interval:start].values,1)\n",
    "std_ = lambda df,start,interval: np.std(df.iloc[:,start-interval:start].values,1)\n",
    "mean_ = lambda df,start,interval: np.mean(df.iloc[:,start-interval:start].values,1)\n",
    "growth_ = lambda df,start,interval: np.mean(df.iloc[:,start-interval:start],1) -\\\n",
    "                                    np.mean(df.iloc[:,start-2*interval:start-interval],1)\n",
    "\n",
    "fun_list = [max_,min_,std_,mean_,growth_]\n",
    "interval_list = [14,30,60,120]\n",
    "T = train1.shape[1]"
   ]
  },
  {
   "cell_type": "code",
   "execution_count": null,
   "metadata": {
    "collapsed": true
   },
   "outputs": [],
   "source": []
  },
  {
   "cell_type": "code",
   "execution_count": 9,
   "metadata": {
    "collapsed": true
   },
   "outputs": [],
   "source": [
    "#margain_ = np.median(train1.iloc[:,1:].values,1)\n",
    "#margain_ = np.where(margain_==0,-20,np.log(margain_))"
   ]
  },
  {
   "cell_type": "code",
   "execution_count": null,
   "metadata": {
    "collapsed": true
   },
   "outputs": [],
   "source": []
  },
  {
   "cell_type": "code",
   "execution_count": 159,
   "metadata": {
    "collapsed": true
   },
   "outputs": [],
   "source": [
    "downSampleRate = 0.5\n",
    "j = T - 64\n",
    "Lookback_X = np.stack([fun(train1,j,interval) for fun in fun_list for interval in interval_list],1)\n",
    "testData = []\n",
    "testMargain = []\n",
    "for i in range(j+2,j+64):\n",
    "    temp = np.concatenate([train1.iloc[:,i].values[:,np.newaxis],\\\n",
    "                           Page_X,\\\n",
    "                           np.broadcast_to(extract_date_info(date_index[i-1],i-j),(n,d)),\\\n",
    "                           Lookback_X,\\\n",
    "                           train1.iloc[:,j-1:j].values,\\\n",
    "                           train1.iloc[:,i-90:i-89].values,\\\n",
    "                           train1.iloc[:,i-120:i-119].values,\\\n",
    "                           train1.iloc[:,i-180:i-179].values,\\\n",
    "                           train1.iloc[:,i-365:i-364].values],1).astype(np.float32)\n",
    "    nonmissing_index = np.logical_not(missing.iloc[:,i].values)\n",
    "    random_index = np.random.rand(nonmissing_index.sum())<downSampleRate\n",
    "    testData.append(temp[nonmissing_index][random_index])\n",
    "    #testMargain.append(margain_[nonmissing_index][random_index])\n",
    "    testMargain.append(train1.iloc[:,j-1].values[nonmissing_index][random_index])"
   ]
  },
  {
   "cell_type": "code",
   "execution_count": 160,
   "metadata": {
    "collapsed": true
   },
   "outputs": [],
   "source": [
    "testData = np.concatenate(testData,0)\n",
    "testMargain = np.concatenate(testMargain,0)"
   ]
  },
  {
   "cell_type": "code",
   "execution_count": null,
   "metadata": {
    "collapsed": true
   },
   "outputs": [],
   "source": []
  },
  {
   "cell_type": "code",
   "execution_count": 171,
   "metadata": {},
   "outputs": [],
   "source": [
    "downSampleRate = 0.1\n",
    "trainData = []\n",
    "trainMargain = []\n",
    "for j in range(T-65*2,350,-70):\n",
    "    Lookback_X = np.stack([fun(train1,j,interval) for fun in fun_list for interval in interval_list],1)\n",
    "    for i in range(j+2,j+64):\n",
    "        temp = np.concatenate([train1.iloc[:,i].values[:,np.newaxis],\\\n",
    "                               Page_X,\\\n",
    "                               np.broadcast_to(extract_date_info(date_index[i-1],i-j),(n,d)),\\\n",
    "                               Lookback_X,\\\n",
    "                               train1.iloc[:,j-1:j].values,\\\n",
    "                               train1.iloc[:,i-90:i-89].values,\\\n",
    "                               train1.iloc[:,i-120:i-119].values,\\\n",
    "                               train1.iloc[:,i-180:i-179].values,\\\n",
    "                               train1.iloc[:,i-365:i-364].values],1).astype(np.float32)\n",
    "        nonmissing_index = np.logical_not(missing.iloc[:,i].values)\n",
    "        random_index = np.random.rand(nonmissing_index.sum())<downSampleRate\n",
    "        trainData.append(temp[nonmissing_index][random_index])\n",
    "        #trainMargain.append(margain_[nonmissing_index][random_index])\n",
    "        trainMargain.append(train1.iloc[:,j-1].values[nonmissing_index][random_index])\n",
    "trainData = np.concatenate(trainData,0)\n",
    "trainMargain = np.concatenate(trainMargain,0)"
   ]
  },
  {
   "cell_type": "code",
   "execution_count": 172,
   "metadata": {
    "collapsed": true
   },
   "outputs": [],
   "source": [
    "# Data corruption when creating a a DMatrix with label being a non-contiguous ndarray #2554\n",
    "trainData = np.ascontiguousarray(trainData)\n",
    "trainMargain = np.ascontiguousarray(trainMargain)"
   ]
  },
  {
   "cell_type": "code",
   "execution_count": null,
   "metadata": {
    "collapsed": true
   },
   "outputs": [],
   "source": []
  },
  {
   "cell_type": "code",
   "execution_count": 183,
   "metadata": {
    "collapsed": true
   },
   "outputs": [],
   "source": [
    "eps = 1\n",
    "floor = 0.1\n",
    "neg_grad = -1.0"
   ]
  },
  {
   "cell_type": "code",
   "execution_count": 187,
   "metadata": {
    "collapsed": true
   },
   "outputs": [],
   "source": [
    "def SMAPE_train(preds, dtrain):\n",
    "    y = dtrain.get_label()\n",
    "    temp = (2*y+eps)/(preds+y+eps)**2\n",
    "    grad = np.where(preds>y,temp,np.where(preds<0,neg_grad,-1*temp))\n",
    "    #index_ = np.isfinite(grad)\n",
    "    #non_index_ = np.logical_not(index_)\n",
    "    #print(preds[non_index_],y[non_index_])\n",
    "    hess = np.ones_like(grad)\n",
    "    return grad, hess\n",
    "\n",
    "def SMAPE_eval(preds, dtrain):\n",
    "    y = dtrain.get_label()\n",
    "    summ = np.abs(y) + np.abs(preds)\n",
    "    return 'SMAPE', 200*np.mean(np.where(summ==0, 0, np.abs(y - preds) / summ))"
   ]
  },
  {
   "cell_type": "code",
   "execution_count": null,
   "metadata": {
    "collapsed": true
   },
   "outputs": [],
   "source": []
  },
  {
   "cell_type": "code",
   "execution_count": null,
   "metadata": {
    "collapsed": true
   },
   "outputs": [],
   "source": []
  },
  {
   "cell_type": "code",
   "execution_count": null,
   "metadata": {
    "collapsed": true
   },
   "outputs": [],
   "source": []
  },
  {
   "cell_type": "code",
   "execution_count": 176,
   "metadata": {
    "collapsed": true
   },
   "outputs": [],
   "source": [
    "dtrain = xgb.DMatrix(np.ascontiguousarray(trainData[:,1:]),label=np.ascontiguousarray(trainData[:,0]))\n",
    "dtest = xgb.DMatrix(np.ascontiguousarray(testData[:,1:]),label=np.ascontiguousarray(testData[:,0]))"
   ]
  },
  {
   "cell_type": "code",
   "execution_count": 177,
   "metadata": {
    "collapsed": true
   },
   "outputs": [],
   "source": [
    "dtrain.set_base_margin(trainMargain)\n",
    "dtest.set_base_margin(testMargain)\n",
    "watchlist = [(dtest, 'eval'), (dtrain, 'train')]"
   ]
  },
  {
   "cell_type": "code",
   "execution_count": null,
   "metadata": {
    "collapsed": true
   },
   "outputs": [],
   "source": []
  },
  {
   "cell_type": "code",
   "execution_count": null,
   "metadata": {
    "collapsed": true
   },
   "outputs": [],
   "source": []
  },
  {
   "cell_type": "code",
   "execution_count": null,
   "metadata": {
    "collapsed": true
   },
   "outputs": [],
   "source": []
  },
  {
   "cell_type": "code",
   "execution_count": 185,
   "metadata": {
    "collapsed": true
   },
   "outputs": [],
   "source": [
    "num_round = 500\n",
    "params =   {'eta': 1e-1,\n",
    "            'max_depth': 6, \n",
    "            'max_bin': 32,\n",
    "            'subsample': 0.05,\n",
    "            #'colsample_bylevel': 0.5, \n",
    "            'min_child_weight':100,\n",
    "            'tree_method':'hist',\n",
    "            'nthread':8}"
   ]
  },
  {
   "cell_type": "code",
   "execution_count": 186,
   "metadata": {
    "collapsed": true
   },
   "outputs": [
    {
     "name": "stderr",
     "output_type": "stream",
     "text": [
      "/apps/conda/envs/ml_py36.18.06.r2/lib/python3.6/site-packages/ipykernel/__main__.py:4: RuntimeWarning: overflow encountered in exp\n",
      "/apps/conda/envs/ml_py36.18.06.r2/lib/python3.6/site-packages/ipykernel/__main__.py:5: RuntimeWarning: overflow encountered in multiply\n",
      "/apps/conda/envs/ml_py36.18.06.r2/lib/python3.6/site-packages/ipykernel/__main__.py:5: RuntimeWarning: overflow encountered in square\n",
      "/apps/conda/envs/ml_py36.18.06.r2/lib/python3.6/site-packages/ipykernel/__main__.py:5: RuntimeWarning: invalid value encountered in true_divide\n",
      "/apps/conda/envs/ml_py36.18.06.r2/lib/python3.6/site-packages/ipykernel/__main__.py:13: RuntimeWarning: invalid value encountered in less\n"
     ]
    },
    {
     "name": "stdout",
     "output_type": "stream",
     "text": [
      "[0]\teval-rmse:nan\ttrain-rmse:nan\teval-SMAPE:nan\ttrain-SMAPE:nan\n"
     ]
    },
    {
     "name": "stderr",
     "output_type": "stream",
     "text": [
      "/apps/conda/envs/ml_py36.18.06.r2/lib/python3.6/site-packages/ipykernel/__main__.py:6: RuntimeWarning: invalid value encountered in greater\n"
     ]
    },
    {
     "ename": "KeyboardInterrupt",
     "evalue": "",
     "output_type": "error",
     "traceback": [
      "\u001b[0;31m---------------------------------------------------------------------------\u001b[0m",
      "\u001b[0;31mKeyboardInterrupt\u001b[0m                         Traceback (most recent call last)",
      "\u001b[0;32m<ipython-input-186-fc91bc4c198f>\u001b[0m in \u001b[0;36m<module>\u001b[0;34m()\u001b[0m\n\u001b[1;32m      1\u001b[0m \u001b[0mstart_time\u001b[0m \u001b[0;34m=\u001b[0m \u001b[0mtimeit\u001b[0m\u001b[0;34m.\u001b[0m\u001b[0mdefault_timer\u001b[0m\u001b[0;34m(\u001b[0m\u001b[0;34m)\u001b[0m\u001b[0;34m\u001b[0m\u001b[0m\n\u001b[0;32m----> 2\u001b[0;31m \u001b[0mmodel_gbm\u001b[0m \u001b[0;34m=\u001b[0m \u001b[0mxgb\u001b[0m\u001b[0;34m.\u001b[0m\u001b[0mtrain\u001b[0m\u001b[0;34m(\u001b[0m\u001b[0mparams\u001b[0m\u001b[0;34m,\u001b[0m \u001b[0mdtrain\u001b[0m\u001b[0;34m,\u001b[0m \u001b[0;36m500\u001b[0m\u001b[0;34m,\u001b[0m \u001b[0mwatchlist\u001b[0m\u001b[0;34m,\u001b[0m                       \u001b[0mverbose_eval\u001b[0m\u001b[0;34m=\u001b[0m\u001b[0;36m100\u001b[0m\u001b[0;34m,\u001b[0m                      \u001b[0mobj\u001b[0m\u001b[0;34m=\u001b[0m\u001b[0mSMAPE_train\u001b[0m\u001b[0;34m,\u001b[0m \u001b[0mfeval\u001b[0m\u001b[0;34m=\u001b[0m\u001b[0mSMAPE_eval\u001b[0m\u001b[0;34m)\u001b[0m\u001b[0;34m\u001b[0m\u001b[0m\n\u001b[0m\u001b[1;32m      3\u001b[0m \u001b[0mprint\u001b[0m\u001b[0;34m(\u001b[0m\u001b[0;34m\"--- %s seconds ---\"\u001b[0m \u001b[0;34m%\u001b[0m \u001b[0;34m(\u001b[0m\u001b[0mtimeit\u001b[0m\u001b[0;34m.\u001b[0m\u001b[0mdefault_timer\u001b[0m\u001b[0;34m(\u001b[0m\u001b[0;34m)\u001b[0m \u001b[0;34m-\u001b[0m \u001b[0mstart_time\u001b[0m\u001b[0;34m)\u001b[0m\u001b[0;34m)\u001b[0m\u001b[0;34m\u001b[0m\u001b[0m\n",
      "\u001b[0;32m/apps/conda/envs/ml_py36.18.06.r2/lib/python3.6/site-packages/xgboost/training.py\u001b[0m in \u001b[0;36mtrain\u001b[0;34m(params, dtrain, num_boost_round, evals, obj, feval, maximize, early_stopping_rounds, evals_result, verbose_eval, xgb_model, callbacks, learning_rates)\u001b[0m\n\u001b[1;32m    202\u001b[0m                            \u001b[0mevals\u001b[0m\u001b[0;34m=\u001b[0m\u001b[0mevals\u001b[0m\u001b[0;34m,\u001b[0m\u001b[0;34m\u001b[0m\u001b[0m\n\u001b[1;32m    203\u001b[0m                            \u001b[0mobj\u001b[0m\u001b[0;34m=\u001b[0m\u001b[0mobj\u001b[0m\u001b[0;34m,\u001b[0m \u001b[0mfeval\u001b[0m\u001b[0;34m=\u001b[0m\u001b[0mfeval\u001b[0m\u001b[0;34m,\u001b[0m\u001b[0;34m\u001b[0m\u001b[0m\n\u001b[0;32m--> 204\u001b[0;31m                            xgb_model=xgb_model, callbacks=callbacks)\n\u001b[0m\u001b[1;32m    205\u001b[0m \u001b[0;34m\u001b[0m\u001b[0m\n\u001b[1;32m    206\u001b[0m \u001b[0;34m\u001b[0m\u001b[0m\n",
      "\u001b[0;32m/apps/conda/envs/ml_py36.18.06.r2/lib/python3.6/site-packages/xgboost/training.py\u001b[0m in \u001b[0;36m_train_internal\u001b[0;34m(params, dtrain, num_boost_round, evals, obj, feval, xgb_model, callbacks)\u001b[0m\n\u001b[1;32m     72\u001b[0m         \u001b[0;31m# Skip the first update if it is a recovery step.\u001b[0m\u001b[0;34m\u001b[0m\u001b[0;34m\u001b[0m\u001b[0m\n\u001b[1;32m     73\u001b[0m         \u001b[0;32mif\u001b[0m \u001b[0mversion\u001b[0m \u001b[0;34m%\u001b[0m \u001b[0;36m2\u001b[0m \u001b[0;34m==\u001b[0m \u001b[0;36m0\u001b[0m\u001b[0;34m:\u001b[0m\u001b[0;34m\u001b[0m\u001b[0m\n\u001b[0;32m---> 74\u001b[0;31m             \u001b[0mbst\u001b[0m\u001b[0;34m.\u001b[0m\u001b[0mupdate\u001b[0m\u001b[0;34m(\u001b[0m\u001b[0mdtrain\u001b[0m\u001b[0;34m,\u001b[0m \u001b[0mi\u001b[0m\u001b[0;34m,\u001b[0m \u001b[0mobj\u001b[0m\u001b[0;34m)\u001b[0m\u001b[0;34m\u001b[0m\u001b[0m\n\u001b[0m\u001b[1;32m     75\u001b[0m             \u001b[0mbst\u001b[0m\u001b[0;34m.\u001b[0m\u001b[0msave_rabit_checkpoint\u001b[0m\u001b[0;34m(\u001b[0m\u001b[0;34m)\u001b[0m\u001b[0;34m\u001b[0m\u001b[0m\n\u001b[1;32m     76\u001b[0m             \u001b[0mversion\u001b[0m \u001b[0;34m+=\u001b[0m \u001b[0;36m1\u001b[0m\u001b[0;34m\u001b[0m\u001b[0m\n",
      "\u001b[0;32m/apps/conda/envs/ml_py36.18.06.r2/lib/python3.6/site-packages/xgboost/core.py\u001b[0m in \u001b[0;36mupdate\u001b[0;34m(self, dtrain, iteration, fobj)\u001b[0m\n\u001b[1;32m    897\u001b[0m             \u001b[0mpred\u001b[0m \u001b[0;34m=\u001b[0m \u001b[0mself\u001b[0m\u001b[0;34m.\u001b[0m\u001b[0mpredict\u001b[0m\u001b[0;34m(\u001b[0m\u001b[0mdtrain\u001b[0m\u001b[0;34m)\u001b[0m\u001b[0;34m\u001b[0m\u001b[0m\n\u001b[1;32m    898\u001b[0m             \u001b[0mgrad\u001b[0m\u001b[0;34m,\u001b[0m \u001b[0mhess\u001b[0m \u001b[0;34m=\u001b[0m \u001b[0mfobj\u001b[0m\u001b[0;34m(\u001b[0m\u001b[0mpred\u001b[0m\u001b[0;34m,\u001b[0m \u001b[0mdtrain\u001b[0m\u001b[0;34m)\u001b[0m\u001b[0;34m\u001b[0m\u001b[0m\n\u001b[0;32m--> 899\u001b[0;31m             \u001b[0mself\u001b[0m\u001b[0;34m.\u001b[0m\u001b[0mboost\u001b[0m\u001b[0;34m(\u001b[0m\u001b[0mdtrain\u001b[0m\u001b[0;34m,\u001b[0m \u001b[0mgrad\u001b[0m\u001b[0;34m,\u001b[0m \u001b[0mhess\u001b[0m\u001b[0;34m)\u001b[0m\u001b[0;34m\u001b[0m\u001b[0m\n\u001b[0m\u001b[1;32m    900\u001b[0m \u001b[0;34m\u001b[0m\u001b[0m\n\u001b[1;32m    901\u001b[0m     \u001b[0;32mdef\u001b[0m \u001b[0mboost\u001b[0m\u001b[0;34m(\u001b[0m\u001b[0mself\u001b[0m\u001b[0;34m,\u001b[0m \u001b[0mdtrain\u001b[0m\u001b[0;34m,\u001b[0m \u001b[0mgrad\u001b[0m\u001b[0;34m,\u001b[0m \u001b[0mhess\u001b[0m\u001b[0;34m)\u001b[0m\u001b[0;34m:\u001b[0m\u001b[0;34m\u001b[0m\u001b[0m\n",
      "\u001b[0;32m/apps/conda/envs/ml_py36.18.06.r2/lib/python3.6/site-packages/xgboost/core.py\u001b[0m in \u001b[0;36mboost\u001b[0;34m(self, dtrain, grad, hess)\u001b[0m\n\u001b[1;32m    921\u001b[0m                                                \u001b[0mc_array\u001b[0m\u001b[0;34m(\u001b[0m\u001b[0mctypes\u001b[0m\u001b[0;34m.\u001b[0m\u001b[0mc_float\u001b[0m\u001b[0;34m,\u001b[0m \u001b[0mgrad\u001b[0m\u001b[0;34m)\u001b[0m\u001b[0;34m,\u001b[0m\u001b[0;34m\u001b[0m\u001b[0m\n\u001b[1;32m    922\u001b[0m                                                \u001b[0mc_array\u001b[0m\u001b[0;34m(\u001b[0m\u001b[0mctypes\u001b[0m\u001b[0;34m.\u001b[0m\u001b[0mc_float\u001b[0m\u001b[0;34m,\u001b[0m \u001b[0mhess\u001b[0m\u001b[0;34m)\u001b[0m\u001b[0;34m,\u001b[0m\u001b[0;34m\u001b[0m\u001b[0m\n\u001b[0;32m--> 923\u001b[0;31m                                                c_bst_ulong(len(grad))))\n\u001b[0m\u001b[1;32m    924\u001b[0m \u001b[0;34m\u001b[0m\u001b[0m\n\u001b[1;32m    925\u001b[0m     \u001b[0;32mdef\u001b[0m \u001b[0meval_set\u001b[0m\u001b[0;34m(\u001b[0m\u001b[0mself\u001b[0m\u001b[0;34m,\u001b[0m \u001b[0mevals\u001b[0m\u001b[0;34m,\u001b[0m \u001b[0miteration\u001b[0m\u001b[0;34m=\u001b[0m\u001b[0;36m0\u001b[0m\u001b[0;34m,\u001b[0m \u001b[0mfeval\u001b[0m\u001b[0;34m=\u001b[0m\u001b[0;32mNone\u001b[0m\u001b[0;34m)\u001b[0m\u001b[0;34m:\u001b[0m\u001b[0;34m\u001b[0m\u001b[0m\n",
      "\u001b[0;31mKeyboardInterrupt\u001b[0m: "
     ]
    }
   ],
   "source": [
    "start_time = timeit.default_timer()\n",
    "model_gbm = xgb.train(params, dtrain, 500, watchlist, \\\n",
    "                      verbose_eval=100,\\\n",
    "                      obj=SMAPE_train, feval=SMAPE_eval)\n",
    "print(\"--- %s seconds ---\" % (timeit.default_timer() - start_time))"
   ]
  },
  {
   "cell_type": "code",
   "execution_count": null,
   "metadata": {
    "collapsed": true
   },
   "outputs": [],
   "source": []
  },
  {
   "cell_type": "code",
   "execution_count": null,
   "metadata": {
    "collapsed": true
   },
   "outputs": [],
   "source": []
  },
  {
   "cell_type": "code",
   "execution_count": 178,
   "metadata": {
    "collapsed": true
   },
   "outputs": [],
   "source": [
    "para_gen = {'eps':[np.random.choice,[0.1,1,5,10,50]],\\\n",
    "            'neg_grad':[np.random.choice,[-0.1,-1,-5,-10,-50]],\\\n",
    "            'max_depth':[np.random.choice,[4,8,12,16,24,32]],\\\n",
    "            'subsample':[np.random.choice,[0.001,0.0025,0.005,0.01,0.025,0.05]],\\\n",
    "            'colsample_bylevel':[np.random.choice,[0.5,0.75,1]],\\\n",
    "            'gamma':[np.random.choice,[0.1,1,10,100,1000]]}"
   ]
  },
  {
   "cell_type": "code",
   "execution_count": 179,
   "metadata": {
    "collapsed": true
   },
   "outputs": [],
   "source": [
    "def generate_(para_gen):\n",
    "    return {key:item[0](item[1]) for key,item in para_gen.items()}"
   ]
  },
  {
   "cell_type": "code",
   "execution_count": 180,
   "metadata": {},
   "outputs": [],
   "source": [
    "def RandomSearch(fun,para_gen,dtrain,dtest,iterations):\n",
    "    # fun needs to have args Xtrain,ytrain,Xtest,ytest\n",
    "    for _ in range(iterations):\n",
    "        paras = generate_(para_gen)\n",
    "        paras_data = paras.copy()\n",
    "        paras_data['dtrain'] = dtrain\n",
    "        paras_data['dtest'] = dtest\n",
    "        paras['score'] = fun(**paras_data)\n",
    "        print(paras)"
   ]
  },
  {
   "cell_type": "code",
   "execution_count": 181,
   "metadata": {},
   "outputs": [],
   "source": [
    "def fun_xgb(dtrain,dtest,eps,neg_grad,max_depth,subsample,colsample_bylevel,gamma):\n",
    "    \n",
    "    def SMAPE_train(preds, dtrain):\n",
    "        y = dtrain.get_label()\n",
    "        temp = (2*y+eps)/(preds+y+eps)**2\n",
    "        grad = np.where(preds>y,temp,np.where(preds<0,neg_grad,-1*temp))\n",
    "        #index_ = np.isfinite(grad)\n",
    "        #non_index_ = np.logical_not(index_)\n",
    "        #print(preds[non_index_],y[non_index_])\n",
    "        hess = np.ones_like(grad)\n",
    "        return grad, hess\n",
    "    \n",
    "    num_round = 500\n",
    "    params =   {'eta': 1e-1,\n",
    "                'max_bin': 32,       \n",
    "                'nthread':8,       \n",
    "                'tree_method':'hist',                \n",
    "                'max_depth': max_depth, \n",
    "                'subsample': subsample,\n",
    "                'colsample_bylevel': colsample_bylevel, \n",
    "                'gamma': gamma\n",
    "                }\n",
    "    \n",
    "    model_gbm = xgb.train(params, dtrain, num_round, obj=SMAPE_train,verbose_eval=False)\n",
    "    return SMAPE_eval(model_gbm.predict(dtest), dtest)[1]"
   ]
  },
  {
   "cell_type": "code",
   "execution_count": 182,
   "metadata": {
    "collapsed": true
   },
   "outputs": [
    {
     "name": "stdout",
     "output_type": "stream",
     "text": [
      "{'eps': 10.0, 'neg_grad': -0.10000000000000001, 'max_depth': 12, 'subsample': 0.01, 'colsample_bylevel': 0.5, 'gamma': 0.10000000000000001, 'score': 47.334647178649902}\n",
      "{'eps': 5.0, 'neg_grad': -50.0, 'max_depth': 8, 'subsample': 0.0025000000000000001, 'colsample_bylevel': 0.75, 'gamma': 10.0, 'score': 49.557363986968994}\n",
      "{'eps': 0.10000000000000001, 'neg_grad': -10.0, 'max_depth': 32, 'subsample': 0.025000000000000001, 'colsample_bylevel': 0.5, 'gamma': 10.0, 'score': 47.02877402305603}\n",
      "{'eps': 10.0, 'neg_grad': -1.0, 'max_depth': 8, 'subsample': 0.001, 'colsample_bylevel': 1.0, 'gamma': 0.10000000000000001, 'score': 47.854211926460266}\n",
      "{'eps': 10.0, 'neg_grad': -5.0, 'max_depth': 32, 'subsample': 0.050000000000000003, 'colsample_bylevel': 1.0, 'gamma': 1000.0, 'score': 49.67702329158783}\n",
      "{'eps': 10.0, 'neg_grad': -0.10000000000000001, 'max_depth': 24, 'subsample': 0.01, 'colsample_bylevel': 0.75, 'gamma': 0.10000000000000001, 'score': 47.330927848815918}\n",
      "{'eps': 5.0, 'neg_grad': -10.0, 'max_depth': 32, 'subsample': 0.050000000000000003, 'colsample_bylevel': 0.75, 'gamma': 1000.0, 'score': 49.555504322052002}\n",
      "{'eps': 5.0, 'neg_grad': -10.0, 'max_depth': 12, 'subsample': 0.0050000000000000001, 'colsample_bylevel': 1.0, 'gamma': 1000.0, 'score': 49.555981159210205}\n",
      "{'eps': 5.0, 'neg_grad': -10.0, 'max_depth': 16, 'subsample': 0.01, 'colsample_bylevel': 0.75, 'gamma': 10.0, 'score': 49.508243799209595}\n",
      "{'eps': 50.0, 'neg_grad': -10.0, 'max_depth': 12, 'subsample': 0.0050000000000000001, 'colsample_bylevel': 0.75, 'gamma': 0.10000000000000001, 'score': 49.809315800666809}\n",
      "{'eps': 50.0, 'neg_grad': -0.10000000000000001, 'max_depth': 8, 'subsample': 0.0050000000000000001, 'colsample_bylevel': 0.5, 'gamma': 100.0, 'score': 49.814146757125854}\n",
      "{'eps': 10.0, 'neg_grad': -5.0, 'max_depth': 8, 'subsample': 0.01, 'colsample_bylevel': 0.5, 'gamma': 0.10000000000000001, 'score': 47.010797262191772}\n",
      "{'eps': 0.10000000000000001, 'neg_grad': -10.0, 'max_depth': 8, 'subsample': 0.01, 'colsample_bylevel': 0.5, 'gamma': 100.0, 'score': 47.951027750968933}\n",
      "{'eps': 5.0, 'neg_grad': -10.0, 'max_depth': 8, 'subsample': 0.01, 'colsample_bylevel': 0.5, 'gamma': 1.0, 'score': 47.272276878356934}\n",
      "{'eps': 1.0, 'neg_grad': -1.0, 'max_depth': 8, 'subsample': 0.050000000000000003, 'colsample_bylevel': 1.0, 'gamma': 100.0, 'score': 47.747316956520081}\n",
      "{'eps': 5.0, 'neg_grad': -10.0, 'max_depth': 12, 'subsample': 0.050000000000000003, 'colsample_bylevel': 0.75, 'gamma': 1000.0, 'score': 49.555504322052002}\n",
      "{'eps': 50.0, 'neg_grad': -5.0, 'max_depth': 12, 'subsample': 0.050000000000000003, 'colsample_bylevel': 0.75, 'gamma': 10.0, 'score': 49.813929200172424}\n",
      "{'eps': 50.0, 'neg_grad': -1.0, 'max_depth': 8, 'subsample': 0.0050000000000000001, 'colsample_bylevel': 1.0, 'gamma': 1000.0, 'score': 49.814146757125854}\n",
      "{'eps': 5.0, 'neg_grad': -5.0, 'max_depth': 8, 'subsample': 0.050000000000000003, 'colsample_bylevel': 0.75, 'gamma': 1.0, 'score': 47.051969170570374}\n",
      "{'eps': 10.0, 'neg_grad': -0.10000000000000001, 'max_depth': 16, 'subsample': 0.025000000000000001, 'colsample_bylevel': 0.75, 'gamma': 0.10000000000000001, 'score': 47.249925136566162}\n",
      "{'eps': 0.10000000000000001, 'neg_grad': -0.10000000000000001, 'max_depth': 32, 'subsample': 0.001, 'colsample_bylevel': 0.5, 'gamma': 1000.0, 'score': 49.828138947486877}\n",
      "{'eps': 5.0, 'neg_grad': -0.10000000000000001, 'max_depth': 16, 'subsample': 0.025000000000000001, 'colsample_bylevel': 0.75, 'gamma': 0.10000000000000001, 'score': 46.843761205673218}\n",
      "{'eps': 10.0, 'neg_grad': -5.0, 'max_depth': 24, 'subsample': 0.050000000000000003, 'colsample_bylevel': 0.75, 'gamma': 0.10000000000000001, 'score': 46.787667274475098}\n",
      "{'eps': 10.0, 'neg_grad': -50.0, 'max_depth': 12, 'subsample': 0.0050000000000000001, 'colsample_bylevel': 0.5, 'gamma': 10.0, 'score': 49.677279591560364}\n",
      "{'eps': 50.0, 'neg_grad': -10.0, 'max_depth': 12, 'subsample': 0.0050000000000000001, 'colsample_bylevel': 0.5, 'gamma': 10.0, 'score': 49.814146757125854}\n",
      "{'eps': 50.0, 'neg_grad': -1.0, 'max_depth': 8, 'subsample': 0.050000000000000003, 'colsample_bylevel': 0.5, 'gamma': 10.0, 'score': 49.813929200172424}\n",
      "{'eps': 5.0, 'neg_grad': -0.10000000000000001, 'max_depth': 12, 'subsample': 0.0025000000000000001, 'colsample_bylevel': 0.5, 'gamma': 10.0, 'score': 49.557363986968994}\n",
      "{'eps': 10.0, 'neg_grad': -0.10000000000000001, 'max_depth': 12, 'subsample': 0.01, 'colsample_bylevel': 0.75, 'gamma': 10.0, 'score': 49.67663586139679}\n",
      "{'eps': 50.0, 'neg_grad': -5.0, 'max_depth': 8, 'subsample': 0.0050000000000000001, 'colsample_bylevel': 0.75, 'gamma': 1000.0, 'score': 49.814146757125854}\n",
      "{'eps': 10.0, 'neg_grad': -50.0, 'max_depth': 12, 'subsample': 0.025000000000000001, 'colsample_bylevel': 1.0, 'gamma': 1.0, 'score': 47.395685315132141}\n",
      "{'eps': 0.10000000000000001, 'neg_grad': -10.0, 'max_depth': 24, 'subsample': 0.050000000000000003, 'colsample_bylevel': 0.5, 'gamma': 1000.0, 'score': 47.912421822547913}\n",
      "{'eps': 10.0, 'neg_grad': -10.0, 'max_depth': 32, 'subsample': 0.0050000000000000001, 'colsample_bylevel': 0.75, 'gamma': 0.10000000000000001, 'score': 47.174039483070374}\n",
      "{'eps': 50.0, 'neg_grad': -5.0, 'max_depth': 32, 'subsample': 0.0050000000000000001, 'colsample_bylevel': 0.75, 'gamma': 0.10000000000000001, 'score': 49.809315800666809}\n",
      "{'eps': 1.0, 'neg_grad': -5.0, 'max_depth': 16, 'subsample': 0.025000000000000001, 'colsample_bylevel': 0.75, 'gamma': 1.0, 'score': 46.74651026725769}\n",
      "{'eps': 5.0, 'neg_grad': -1.0, 'max_depth': 24, 'subsample': 0.001, 'colsample_bylevel': 0.5, 'gamma': 0.10000000000000001, 'score': 47.084742784500122}\n",
      "{'eps': 50.0, 'neg_grad': -5.0, 'max_depth': 8, 'subsample': 0.0050000000000000001, 'colsample_bylevel': 1.0, 'gamma': 10.0, 'score': 49.814146757125854}\n",
      "{'eps': 0.10000000000000001, 'neg_grad': -10.0, 'max_depth': 24, 'subsample': 0.0050000000000000001, 'colsample_bylevel': 0.75, 'gamma': 1000.0, 'score': 47.905418276786804}\n",
      "{'eps': 50.0, 'neg_grad': -50.0, 'max_depth': 24, 'subsample': 0.0025000000000000001, 'colsample_bylevel': 1.0, 'gamma': 100.0, 'score': 49.814385175704956}\n",
      "{'eps': 5.0, 'neg_grad': -10.0, 'max_depth': 4, 'subsample': 0.050000000000000003, 'colsample_bylevel': 0.5, 'gamma': 0.10000000000000001, 'score': 46.840369701385498}\n",
      "{'eps': 1.0, 'neg_grad': -1.0, 'max_depth': 8, 'subsample': 0.025000000000000001, 'colsample_bylevel': 1.0, 'gamma': 0.10000000000000001, 'score': 46.566811203956604}\n",
      "{'eps': 1.0, 'neg_grad': -5.0, 'max_depth': 24, 'subsample': 0.050000000000000003, 'colsample_bylevel': 0.5, 'gamma': 10.0, 'score': 46.847715973854065}\n",
      "{'eps': 50.0, 'neg_grad': -5.0, 'max_depth': 4, 'subsample': 0.050000000000000003, 'colsample_bylevel': 0.75, 'gamma': 10.0, 'score': 49.813929200172424}\n",
      "{'eps': 10.0, 'neg_grad': -5.0, 'max_depth': 16, 'subsample': 0.050000000000000003, 'colsample_bylevel': 0.75, 'gamma': 0.10000000000000001, 'score': 46.816065907478333}\n",
      "{'eps': 1.0, 'neg_grad': -1.0, 'max_depth': 8, 'subsample': 0.0025000000000000001, 'colsample_bylevel': 1.0, 'gamma': 10.0, 'score': 48.419004678726196}\n",
      "{'eps': 1.0, 'neg_grad': -0.10000000000000001, 'max_depth': 12, 'subsample': 0.0025000000000000001, 'colsample_bylevel': 0.75, 'gamma': 1.0, 'score': 47.422495484352112}\n",
      "{'eps': 0.10000000000000001, 'neg_grad': -1.0, 'max_depth': 8, 'subsample': 0.001, 'colsample_bylevel': 0.75, 'gamma': 1000.0, 'score': 49.833792448043823}\n",
      "{'eps': 50.0, 'neg_grad': -0.10000000000000001, 'max_depth': 12, 'subsample': 0.0025000000000000001, 'colsample_bylevel': 1.0, 'gamma': 0.10000000000000001, 'score': 49.809679388999939}\n",
      "{'eps': 10.0, 'neg_grad': -0.10000000000000001, 'max_depth': 8, 'subsample': 0.050000000000000003, 'colsample_bylevel': 1.0, 'gamma': 1.0, 'score': 47.588139772415161}\n",
      "{'eps': 0.10000000000000001, 'neg_grad': -1.0, 'max_depth': 8, 'subsample': 0.0025000000000000001, 'colsample_bylevel': 1.0, 'gamma': 10.0, 'score': 47.182032465934753}\n",
      "{'eps': 1.0, 'neg_grad': -1.0, 'max_depth': 12, 'subsample': 0.0050000000000000001, 'colsample_bylevel': 0.75, 'gamma': 10.0, 'score': 47.667834162712097}\n",
      "{'eps': 0.10000000000000001, 'neg_grad': -5.0, 'max_depth': 4, 'subsample': 0.0050000000000000001, 'colsample_bylevel': 0.5, 'gamma': 100.0, 'score': 47.894576191902161}\n"
     ]
    },
    {
     "name": "stdout",
     "output_type": "stream",
     "text": [
      "{'eps': 10.0, 'neg_grad': -0.10000000000000001, 'max_depth': 16, 'subsample': 0.0025000000000000001, 'colsample_bylevel': 0.75, 'gamma': 1.0, 'score': 49.652045965194702}\n",
      "{'eps': 10.0, 'neg_grad': -5.0, 'max_depth': 24, 'subsample': 0.0025000000000000001, 'colsample_bylevel': 0.5, 'gamma': 1.0, 'score': 49.652045965194702}\n",
      "{'eps': 1.0, 'neg_grad': -5.0, 'max_depth': 24, 'subsample': 0.01, 'colsample_bylevel': 1.0, 'gamma': 0.10000000000000001, 'score': 46.62441611289978}\n",
      "{'eps': 5.0, 'neg_grad': -10.0, 'max_depth': 32, 'subsample': 0.0025000000000000001, 'colsample_bylevel': 0.75, 'gamma': 100.0, 'score': 49.557363986968994}\n",
      "{'eps': 50.0, 'neg_grad': -1.0, 'max_depth': 16, 'subsample': 0.01, 'colsample_bylevel': 1.0, 'gamma': 1.0, 'score': 49.813753366470337}\n",
      "{'eps': 5.0, 'neg_grad': -0.10000000000000001, 'max_depth': 12, 'subsample': 0.025000000000000001, 'colsample_bylevel': 1.0, 'gamma': 1000.0, 'score': 49.555650353431702}\n",
      "{'eps': 1.0, 'neg_grad': -0.10000000000000001, 'max_depth': 8, 'subsample': 0.025000000000000001, 'colsample_bylevel': 0.5, 'gamma': 0.10000000000000001, 'score': 46.725338697433472}\n",
      "{'eps': 5.0, 'neg_grad': -50.0, 'max_depth': 24, 'subsample': 0.050000000000000003, 'colsample_bylevel': 0.5, 'gamma': 10.0, 'score': 47.642919421195984}\n",
      "{'eps': 1.0, 'neg_grad': -0.10000000000000001, 'max_depth': 32, 'subsample': 0.0050000000000000001, 'colsample_bylevel': 0.75, 'gamma': 100.0, 'score': 49.220597743988037}\n",
      "{'eps': 5.0, 'neg_grad': -5.0, 'max_depth': 12, 'subsample': 0.01, 'colsample_bylevel': 0.75, 'gamma': 100.0, 'score': 49.55543577671051}\n",
      "{'eps': 10.0, 'neg_grad': -5.0, 'max_depth': 4, 'subsample': 0.050000000000000003, 'colsample_bylevel': 0.5, 'gamma': 10.0, 'score': 49.650445580482483}\n",
      "{'eps': 0.10000000000000001, 'neg_grad': -1.0, 'max_depth': 8, 'subsample': 0.01, 'colsample_bylevel': 0.75, 'gamma': 100.0, 'score': 47.951027750968933}\n",
      "{'eps': 50.0, 'neg_grad': -1.0, 'max_depth': 32, 'subsample': 0.025000000000000001, 'colsample_bylevel': 0.5, 'gamma': 1.0, 'score': 49.809077382087708}\n",
      "{'eps': 5.0, 'neg_grad': -50.0, 'max_depth': 24, 'subsample': 0.01, 'colsample_bylevel': 1.0, 'gamma': 0.10000000000000001, 'score': 48.04614782333374}\n",
      "{'eps': 10.0, 'neg_grad': -10.0, 'max_depth': 16, 'subsample': 0.050000000000000003, 'colsample_bylevel': 0.5, 'gamma': 10.0, 'score': 49.650445580482483}\n",
      "{'eps': 50.0, 'neg_grad': -50.0, 'max_depth': 16, 'subsample': 0.050000000000000003, 'colsample_bylevel': 0.5, 'gamma': 1000.0, 'score': 49.813929200172424}\n",
      "{'eps': 0.10000000000000001, 'neg_grad': -1.0, 'max_depth': 16, 'subsample': 0.001, 'colsample_bylevel': 0.75, 'gamma': 100.0, 'score': 48.243424296379089}\n",
      "{'eps': 10.0, 'neg_grad': -50.0, 'max_depth': 8, 'subsample': 0.001, 'colsample_bylevel': 0.75, 'gamma': 100.0, 'score': 49.683639407157898}\n",
      "{'eps': 50.0, 'neg_grad': -50.0, 'max_depth': 12, 'subsample': 0.01, 'colsample_bylevel': 1.0, 'gamma': 10.0, 'score': 49.813753366470337}\n",
      "{'eps': 50.0, 'neg_grad': -10.0, 'max_depth': 4, 'subsample': 0.050000000000000003, 'colsample_bylevel': 0.5, 'gamma': 100.0, 'score': 49.813929200172424}\n",
      "{'eps': 50.0, 'neg_grad': -50.0, 'max_depth': 32, 'subsample': 0.0050000000000000001, 'colsample_bylevel': 0.75, 'gamma': 100.0, 'score': 49.814146757125854}\n",
      "{'eps': 50.0, 'neg_grad': -50.0, 'max_depth': 12, 'subsample': 0.0050000000000000001, 'colsample_bylevel': 1.0, 'gamma': 100.0, 'score': 49.814146757125854}\n",
      "{'eps': 5.0, 'neg_grad': -0.10000000000000001, 'max_depth': 32, 'subsample': 0.0025000000000000001, 'colsample_bylevel': 0.5, 'gamma': 0.10000000000000001, 'score': 47.130587697029114}\n",
      "{'eps': 50.0, 'neg_grad': -10.0, 'max_depth': 16, 'subsample': 0.001, 'colsample_bylevel': 1.0, 'gamma': 0.10000000000000001, 'score': 49.816012382507324}\n",
      "{'eps': 10.0, 'neg_grad': -10.0, 'max_depth': 16, 'subsample': 0.0050000000000000001, 'colsample_bylevel': 0.75, 'gamma': 0.10000000000000001, 'score': 47.174039483070374}\n",
      "{'eps': 1.0, 'neg_grad': -1.0, 'max_depth': 4, 'subsample': 0.025000000000000001, 'colsample_bylevel': 0.75, 'gamma': 1.0, 'score': 47.044390439987183}\n",
      "{'eps': 5.0, 'neg_grad': -1.0, 'max_depth': 16, 'subsample': 0.050000000000000003, 'colsample_bylevel': 0.75, 'gamma': 1000.0, 'score': 49.555504322052002}\n",
      "{'eps': 50.0, 'neg_grad': -10.0, 'max_depth': 24, 'subsample': 0.0050000000000000001, 'colsample_bylevel': 0.75, 'gamma': 0.10000000000000001, 'score': 49.809315800666809}\n",
      "{'eps': 0.10000000000000001, 'neg_grad': -10.0, 'max_depth': 12, 'subsample': 0.050000000000000003, 'colsample_bylevel': 0.5, 'gamma': 100.0, 'score': 47.282016277313232}\n",
      "{'eps': 5.0, 'neg_grad': -50.0, 'max_depth': 12, 'subsample': 0.01, 'colsample_bylevel': 0.75, 'gamma': 100.0, 'score': 49.55543577671051}\n",
      "{'eps': 10.0, 'neg_grad': -1.0, 'max_depth': 8, 'subsample': 0.025000000000000001, 'colsample_bylevel': 0.5, 'gamma': 1.0, 'score': 47.578233480453491}\n",
      "{'eps': 5.0, 'neg_grad': -1.0, 'max_depth': 16, 'subsample': 0.0025000000000000001, 'colsample_bylevel': 0.5, 'gamma': 1.0, 'score': 48.84314239025116}\n",
      "{'eps': 10.0, 'neg_grad': -10.0, 'max_depth': 16, 'subsample': 0.01, 'colsample_bylevel': 1.0, 'gamma': 10.0, 'score': 49.67663586139679}\n",
      "{'eps': 1.0, 'neg_grad': -1.0, 'max_depth': 12, 'subsample': 0.01, 'colsample_bylevel': 0.75, 'gamma': 100.0, 'score': 49.216830730438232}\n",
      "{'eps': 5.0, 'neg_grad': -10.0, 'max_depth': 8, 'subsample': 0.001, 'colsample_bylevel': 0.75, 'gamma': 1.0, 'score': 49.520280957221985}\n",
      "{'eps': 50.0, 'neg_grad': -10.0, 'max_depth': 24, 'subsample': 0.01, 'colsample_bylevel': 0.75, 'gamma': 1.0, 'score': 49.813753366470337}\n",
      "{'eps': 50.0, 'neg_grad': -50.0, 'max_depth': 12, 'subsample': 0.025000000000000001, 'colsample_bylevel': 1.0, 'gamma': 1000.0, 'score': 49.813935160636902}\n",
      "{'eps': 1.0, 'neg_grad': -50.0, 'max_depth': 8, 'subsample': 0.0025000000000000001, 'colsample_bylevel': 0.75, 'gamma': 0.10000000000000001, 'score': 48.382169008255005}\n",
      "{'eps': 50.0, 'neg_grad': -5.0, 'max_depth': 4, 'subsample': 0.0025000000000000001, 'colsample_bylevel': 0.5, 'gamma': 1000.0, 'score': 49.814385175704956}\n",
      "{'eps': 10.0, 'neg_grad': -50.0, 'max_depth': 16, 'subsample': 0.0050000000000000001, 'colsample_bylevel': 1.0, 'gamma': 1.0, 'score': 49.650311470031738}\n",
      "{'eps': 1.0, 'neg_grad': -10.0, 'max_depth': 4, 'subsample': 0.025000000000000001, 'colsample_bylevel': 0.75, 'gamma': 0.10000000000000001, 'score': 46.638724207878113}\n",
      "{'eps': 0.10000000000000001, 'neg_grad': -1.0, 'max_depth': 24, 'subsample': 0.050000000000000003, 'colsample_bylevel': 0.5, 'gamma': 1.0, 'score': 46.559548377990723}\n",
      "{'eps': 50.0, 'neg_grad': -1.0, 'max_depth': 32, 'subsample': 0.0025000000000000001, 'colsample_bylevel': 0.75, 'gamma': 10.0, 'score': 49.814385175704956}\n",
      "{'eps': 50.0, 'neg_grad': -10.0, 'max_depth': 32, 'subsample': 0.001, 'colsample_bylevel': 0.5, 'gamma': 10.0, 'score': 49.816012382507324}\n",
      "{'eps': 50.0, 'neg_grad': -10.0, 'max_depth': 32, 'subsample': 0.050000000000000003, 'colsample_bylevel': 1.0, 'gamma': 100.0, 'score': 49.813929200172424}\n",
      "{'eps': 50.0, 'neg_grad': -50.0, 'max_depth': 32, 'subsample': 0.01, 'colsample_bylevel': 1.0, 'gamma': 100.0, 'score': 49.813753366470337}\n",
      "{'eps': 1.0, 'neg_grad': -1.0, 'max_depth': 8, 'subsample': 0.050000000000000003, 'colsample_bylevel': 0.5, 'gamma': 1000.0, 'score': 49.219527840614319}\n",
      "{'eps': 50.0, 'neg_grad': -5.0, 'max_depth': 32, 'subsample': 0.025000000000000001, 'colsample_bylevel': 0.5, 'gamma': 10.0, 'score': 49.813935160636902}\n",
      "{'eps': 10.0, 'neg_grad': -5.0, 'max_depth': 8, 'subsample': 0.025000000000000001, 'colsample_bylevel': 0.75, 'gamma': 10.0, 'score': 49.650004506111145}\n"
     ]
    }
   ],
   "source": [
    "RandomSearch(fun_xgb,para_gen,dtrain,dtest,100)"
   ]
  },
  {
   "cell_type": "code",
   "execution_count": null,
   "metadata": {
    "collapsed": true
   },
   "outputs": [],
   "source": []
  },
  {
   "cell_type": "code",
   "execution_count": null,
   "metadata": {
    "collapsed": true
   },
   "outputs": [],
   "source": []
  },
  {
   "cell_type": "code",
   "execution_count": null,
   "metadata": {
    "collapsed": true
   },
   "outputs": [],
   "source": []
  }
 ],
 "metadata": {
  "kernelspec": {
   "display_name": "MRG [ml_py36.18.06.r2]",
   "language": "python",
   "name": "mrg_default[ml_py36.18.06.r2]"
  },
  "language_info": {
   "codemirror_mode": {
    "name": "ipython",
    "version": 3
   },
   "file_extension": ".py",
   "mimetype": "text/x-python",
   "name": "python",
   "nbconvert_exporter": "python",
   "pygments_lexer": "ipython3",
   "version": "3.6.0"
  }
 },
 "nbformat": 4,
 "nbformat_minor": 2
}
