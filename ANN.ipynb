{
 "cells": [
  {
   "cell_type": "code",
   "execution_count": 226,
   "metadata": {},
   "outputs": [],
   "source": [
    "import pandas as pd\n",
    "import numpy as np\n",
    "from sklearn.preprocessing import OneHotEncoder\n",
    "import timeit\n",
    "import tensorflow as tf\n",
    "from tensorflow import keras\n",
    "from tensorflow.keras.layers import Dense,BatchNormalization, Activation\n",
    "from tensorflow.keras.activations import relu\n",
    "from tensorflow.keras import regularizers\n",
    "from tensorflow.keras.losses import mean_absolute_error"
   ]
  },
  {
   "cell_type": "code",
   "execution_count": null,
   "metadata": {},
   "outputs": [],
   "source": [
    "# TODO: set up correct dateRange and weight\n",
    "# TODO: normalize model inputs"
   ]
  },
  {
   "cell_type": "code",
   "execution_count": null,
   "metadata": {},
   "outputs": [],
   "source": []
  },
  {
   "cell_type": "code",
   "execution_count": 3,
   "metadata": {},
   "outputs": [],
   "source": [
    "train1  = pd.read_csv('train_2.csv')\n",
    "missing = train1.isnull()\n",
    "nonMissingIndex = np.logical_not(missing).values\n",
    "train1 = train1.fillna(0)\n",
    "train1.iloc[:,1:] = train1.iloc[:,1:].astype(np.float32)\n",
    "n = train1.shape[0]"
   ]
  },
  {
   "cell_type": "code",
   "execution_count": null,
   "metadata": {},
   "outputs": [],
   "source": []
  },
  {
   "cell_type": "code",
   "execution_count": 4,
   "metadata": {},
   "outputs": [],
   "source": [
    "a = train1.Page.str.split('mediawiki.org|wikimedia.org|wikipedia.org',expand=True)\n",
    "b = np.where(a.loc[:,2].isnull(),a.loc[:,1],a.loc[:,2])\n",
    "_,index_array = np.unique(b,return_inverse=True) # access & agent\n",
    "website_array = [train1.Page.str.contains(web).values.astype(np.int8) \\\n",
    "                 for web in ['mediawiki.org','wikimedia.org','wikipedia.org']] # website\n",
    "lang_array = train1.Page.str.extract('([a-z]{2}).wikipedia').fillna('nan').values.flatten()\n",
    "_,lang_array = np.unique(lang_array,return_inverse=True) # language"
   ]
  },
  {
   "cell_type": "code",
   "execution_count": 5,
   "metadata": {},
   "outputs": [],
   "source": [
    "Page_X = \\\n",
    "np.concatenate([OneHotEncoder(dtype=np.float32,sparse=False).fit_transform(lang_array[:,np.newaxis]),\\\n",
    "                OneHotEncoder(dtype=np.float32,sparse=False).fit_transform(index_array[:,np.newaxis]),\\\n",
    "                np.stack(website_array,1)],1)"
   ]
  },
  {
   "cell_type": "code",
   "execution_count": null,
   "metadata": {},
   "outputs": [],
   "source": []
  },
  {
   "cell_type": "code",
   "execution_count": 34,
   "metadata": {},
   "outputs": [],
   "source": [
    "date_index=pd.to_datetime(train1.columns[1:]).to_series().reset_index(drop=True)\n",
    "def extract_date_info(timestamp,mss):\n",
    "    return np.array([mss, timestamp.day, \\\n",
    "                     timestamp.dayofyear]+\\\n",
    "                    [1 if i==timestamp.year else 0 for i in [2015, 2016, 2017]]+\\\n",
    "                    [1 if i==timestamp.weekday() else 0 for i in range(7)]+\\\n",
    "                    [1 if i==timestamp.month else 0 for i in range(12)])"
   ]
  },
  {
   "cell_type": "code",
   "execution_count": 35,
   "metadata": {},
   "outputs": [],
   "source": [
    "d = extract_date_info(date_index[3],3).shape[0]"
   ]
  },
  {
   "cell_type": "code",
   "execution_count": 36,
   "metadata": {},
   "outputs": [],
   "source": [
    "max_ = lambda df,start,interval: np.max(df.iloc[:,start-interval:start].values,1)\n",
    "min_ = lambda df,start,interval: np.min(df.iloc[:,start-interval:start].values,1)\n",
    "std_ = lambda df,start,interval: np.std(df.iloc[:,start-interval:start].values,1)\n",
    "mean_ = lambda df,start,interval: np.mean(df.iloc[:,start-interval:start].values,1)\n",
    "growth_ = lambda df,start,interval: np.mean(df.iloc[:,start-interval:start],1) -\\\n",
    "                                    np.mean(df.iloc[:,start-2*interval:start-interval],1)\n",
    "\n",
    "fun_list = [max_,min_,std_,mean_,growth_]\n",
    "interval_list = [14,30,60]\n",
    "T = train1.shape[1]"
   ]
  },
  {
   "cell_type": "code",
   "execution_count": null,
   "metadata": {},
   "outputs": [],
   "source": []
  },
  {
   "cell_type": "code",
   "execution_count": 171,
   "metadata": {},
   "outputs": [],
   "source": [
    "def Generator(batchSize,dateRange,weight):\n",
    "    while True:\n",
    "        j = np.random.choice(range(*dateRange),p=weight)\n",
    "        i = np.random.choice(range(j+2,j+64))\n",
    "        index_ = np.random.choice(np.where(nonMissingIndex[:,i])[0],size=batchSize)\n",
    "        temp = train1.iloc[index_]\n",
    "        Lookback_X = np.stack([fun(temp,j,interval) for fun in fun_list for interval in interval_list],1)\n",
    "        yield ([np.concatenate([Page_X[index_],\\\n",
    "                                Lookback_X,\\\n",
    "                                np.broadcast_to(extract_date_info(date_index[i-1],i-j),(batchSize,d)),\\\n",
    "                                temp.iloc[:,j-1:j].values,\\\n",
    "                                temp.iloc[:,i-90:i-89].values,\\\n",
    "                                temp.iloc[:,i-120:i-119].values,\\\n",
    "                                temp.iloc[:,i-180:i-179].values,\\\n",
    "                                temp.iloc[:,i-365:i-364].values],1).astype(np.float32),\\\n",
    "               temp.iloc[:,j-1].values[:np.newaxis]],\\\n",
    "               temp.iloc[:,i].values[:np.newaxis])"
   ]
  },
  {
   "cell_type": "code",
   "execution_count": null,
   "metadata": {},
   "outputs": [],
   "source": []
  },
  {
   "cell_type": "code",
   "execution_count": 37,
   "metadata": {},
   "outputs": [],
   "source": [
    "downSampleRate = 0.25\n",
    "j = T - 64\n",
    "Lookback_X = np.stack([fun(train1,j,interval) for fun in fun_list for interval in interval_list],1)\n",
    "testData = []\n",
    "testMargain = []\n",
    "for i in range(j+2,j+64):\n",
    "    temp = np.concatenate([train1.iloc[:,i].values[:,np.newaxis],\\\n",
    "                           Page_X,\\\n",
    "                           np.broadcast_to(extract_date_info(date_index[i-1],i-j),(n,d)),\\\n",
    "                           Lookback_X,\\\n",
    "                           train1.iloc[:,j-1:j].values,\\\n",
    "                           train1.iloc[:,i-90:i-89].values,\\\n",
    "                           train1.iloc[:,i-120:i-119].values,\\\n",
    "                           train1.iloc[:,i-180:i-179].values,\\\n",
    "                           train1.iloc[:,i-365:i-364].values],1).astype(np.float32)\n",
    "    nonmissing_index = np.logical_not(missing.iloc[:,i].values)\n",
    "    random_index = np.random.rand(nonmissing_index.sum())<downSampleRate\n",
    "    testData.append(temp[nonmissing_index][random_index])\n",
    "    testMargain.append(train1.iloc[:,j-1].values[nonmissing_index][random_index])\n",
    "testData = np.concatenate(testData,0)\n",
    "testMargain = np.concatenate(testMargain,0)    "
   ]
  },
  {
   "cell_type": "code",
   "execution_count": 165,
   "metadata": {},
   "outputs": [],
   "source": [
    "testY = testData[:,0][:np.newaxis]\n",
    "testX = testData[:,1:]\n",
    "testMargain = testMargain[:,np.newaxis]\n",
    "del testData"
   ]
  },
  {
   "cell_type": "code",
   "execution_count": null,
   "metadata": {},
   "outputs": [],
   "source": []
  },
  {
   "cell_type": "code",
   "execution_count": null,
   "metadata": {},
   "outputs": [],
   "source": []
  },
  {
   "cell_type": "code",
   "execution_count": 244,
   "metadata": {},
   "outputs": [],
   "source": [
    "batchSize = 1000\n",
    "depth = 5\n",
    "d = testX.shape[1]\n",
    "L2 = 1e-2\n",
    "learningR = 1e-1\n",
    "eps = 0.1"
   ]
  },
  {
   "cell_type": "code",
   "execution_count": 245,
   "metadata": {},
   "outputs": [],
   "source": [
    "X_tf = tf.placeholder(tf.float32,(None,d))\n",
    "base_tf = tf.placeholder(tf.float32,shape=(None,1))\n",
    "y_tf = tf.placeholder(tf.float32,(None,1))"
   ]
  },
  {
   "cell_type": "code",
   "execution_count": 246,
   "metadata": {},
   "outputs": [],
   "source": [
    "model = keras.Sequential()"
   ]
  },
  {
   "cell_type": "code",
   "execution_count": 247,
   "metadata": {},
   "outputs": [],
   "source": [
    "for _ in range(depth):   \n",
    "    model.add(Dense(d,kernel_regularizer=regularizers.l2(L2)))\n",
    "    model.add(BatchNormalization())\n",
    "    model.add(Activation(relu))"
   ]
  },
  {
   "cell_type": "code",
   "execution_count": 248,
   "metadata": {},
   "outputs": [],
   "source": [
    "model.add(Dense(1,activation=relu,kernel_regularizer=regularizers.l2(L2)))"
   ]
  },
  {
   "cell_type": "code",
   "execution_count": 249,
   "metadata": {},
   "outputs": [],
   "source": [
    "yhat_tf = model(X_tf) + base_tf"
   ]
  },
  {
   "cell_type": "code",
   "execution_count": 236,
   "metadata": {},
   "outputs": [],
   "source": [
    "cost1 = mean_absolute_error(y_tf,yhat_tf)"
   ]
  },
  {
   "cell_type": "code",
   "execution_count": 240,
   "metadata": {},
   "outputs": [],
   "source": [
    "train_op1 = tf.train.AdamOptimizer(learning_rate=learningR).minimize(cost1)"
   ]
  },
  {
   "cell_type": "code",
   "execution_count": null,
   "metadata": {},
   "outputs": [],
   "source": [
    "cost2 = tf.abs(y_tf-yhat_tf)/(tf.abs(y_tf)+tf.abs(yhat_tf)+eps)"
   ]
  },
  {
   "cell_type": "code",
   "execution_count": null,
   "metadata": {},
   "outputs": [],
   "source": [
    "train_op2 = tf.train.AdamOptimizer(learning_rate=learningR).minimize(cost2)"
   ]
  },
  {
   "cell_type": "code",
   "execution_count": null,
   "metadata": {},
   "outputs": [],
   "source": []
  },
  {
   "cell_type": "code",
   "execution_count": null,
   "metadata": {},
   "outputs": [],
   "source": []
  },
  {
   "cell_type": "markdown",
   "metadata": {},
   "source": [
    "Make Submission"
   ]
  },
  {
   "cell_type": "code",
   "execution_count": null,
   "metadata": {},
   "outputs": [],
   "source": [
    "date_index = date_index.append(pd.Series(pd.date_range('2017-09-11','2017-11-13')))"
   ]
  },
  {
   "cell_type": "code",
   "execution_count": null,
   "metadata": {},
   "outputs": [],
   "source": [
    "date_index = date_index.reset_index(drop=True)"
   ]
  },
  {
   "cell_type": "code",
   "execution_count": null,
   "metadata": {},
   "outputs": [],
   "source": [
    "j = T\n",
    "Lookback_X = np.stack([fun(train1,j,interval) for fun in fun_list for interval in interval_list],1)\n",
    "testData = []\n",
    "testMargain = []\n",
    "mapping_index = []\n",
    "for i in range(j+2,j+64):\n",
    "    temp = np.concatenate([Page_X,\\\n",
    "                           np.broadcast_to(extract_date_info(date_index[i-1],i-j),(n,d)),\\\n",
    "                           Lookback_X,\\\n",
    "                           train1.iloc[:,j-1:j].values,\\\n",
    "                           train1.iloc[:,i-90:i-89].values,\\\n",
    "                           train1.iloc[:,i-120:i-119].values,\\\n",
    "                           train1.iloc[:,i-180:i-179].values,\\\n",
    "                           train1.iloc[:,i-365:i-364].values],1).astype(np.float32)\n",
    "\n",
    "    testData.append(temp)\n",
    "    testMargain.append(train1.iloc[:,j-1].values)\n",
    "    mapping_index.append(train1.iloc[:,0].str.cat([str(date_index[i-1])[:10]]*n,'_'))\n",
    "    \n",
    "testData = np.concatenate(testData,0)\n",
    "testMargain = np.concatenate(testMargain,0)\n",
    "mapping_index = np.concatenate(mapping_index,0)"
   ]
  },
  {
   "cell_type": "code",
   "execution_count": null,
   "metadata": {},
   "outputs": [],
   "source": [
    "# Data corruption when creating a a DMatrix with label being a non-contiguous ndarray #2554\n",
    "dtest = xgb.DMatrix(np.ascontiguousarray(testData))\n",
    "dtest.set_base_margin(np.ascontiguousarray(testMargain))"
   ]
  },
  {
   "cell_type": "code",
   "execution_count": null,
   "metadata": {},
   "outputs": [],
   "source": [
    "yhat = np.maximum(model_gbm.predict(dtest,output_margin=True),0)"
   ]
  },
  {
   "cell_type": "code",
   "execution_count": null,
   "metadata": {},
   "outputs": [],
   "source": [
    "yhat = pd.DataFrame({'Page':mapping_index,'Visits':yhat})"
   ]
  },
  {
   "cell_type": "code",
   "execution_count": null,
   "metadata": {},
   "outputs": [],
   "source": []
  },
  {
   "cell_type": "code",
   "execution_count": null,
   "metadata": {},
   "outputs": [],
   "source": [
    "key = pd.read_csv('key_2.csv')"
   ]
  },
  {
   "cell_type": "code",
   "execution_count": null,
   "metadata": {},
   "outputs": [],
   "source": [
    "key = key.merge(yhat,on='Page')"
   ]
  },
  {
   "cell_type": "code",
   "execution_count": null,
   "metadata": {},
   "outputs": [],
   "source": [
    "key.drop('Page',axis=1,inplace=True)"
   ]
  },
  {
   "cell_type": "code",
   "execution_count": null,
   "metadata": {},
   "outputs": [],
   "source": [
    "key.to_csv('Submissions/gbm1.csv',index=False)"
   ]
  },
  {
   "cell_type": "code",
   "execution_count": null,
   "metadata": {},
   "outputs": [],
   "source": []
  }
 ],
 "metadata": {
  "kernelspec": {
   "display_name": "Python 3",
   "language": "python",
   "name": "python3"
  },
  "language_info": {
   "codemirror_mode": {
    "name": "ipython",
    "version": 3
   },
   "file_extension": ".py",
   "mimetype": "text/x-python",
   "name": "python",
   "nbconvert_exporter": "python",
   "pygments_lexer": "ipython3",
   "version": "3.6.6"
  }
 },
 "nbformat": 4,
 "nbformat_minor": 2
}
