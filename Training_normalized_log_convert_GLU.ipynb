{
 "cells": [
  {
   "cell_type": "code",
   "execution_count": 1,
   "metadata": {},
   "outputs": [],
   "source": [
    "import numpy as np\n",
    "from torch.utils.data import DataLoader\n",
    "from functions import *\n",
    "from torch.nn import GRU,Conv1d,Linear,ReLU,Sequential,MSELoss,L1Loss,LeakyReLU,Dropout\n",
    "from torch.optim import Adam\n",
    "from pytorch_util import *\n",
    "from pytorch_models import ConvDropout2dGLU,GRU_NCL"
   ]
  },
  {
   "cell_type": "code",
   "execution_count": 2,
   "metadata": {},
   "outputs": [],
   "source": [
    "long_page = np.load('../Data/long_page.npy')\n",
    "long_value = np.load('../Data/long_value.npy')\n",
    "start_index = np.load('../Data/start_index.npy')\n",
    "stds = np.load('../Data/stds_log.npy')\n",
    "means = np.load('../Data/means_log.npy')\n",
    "long_normal_value = np.load('../Data/long_lognormal_value.npy')"
   ]
  },
  {
   "cell_type": "code",
   "execution_count": 3,
   "metadata": {},
   "outputs": [],
   "source": [
    "# to account for look back period 365 + 60\n",
    "start_index = start_index + 430"
   ]
  },
  {
   "cell_type": "code",
   "execution_count": 4,
   "metadata": {},
   "outputs": [],
   "source": [
    "## to change ##\n",
    "batch_size = 64\n",
    "clip = .5"
   ]
  },
  {
   "cell_type": "code",
   "execution_count": null,
   "metadata": {},
   "outputs": [],
   "source": []
  },
  {
   "cell_type": "code",
   "execution_count": 5,
   "metadata": {},
   "outputs": [],
   "source": [
    "# baseline model\n",
    "# yhat = long_normal_value[:,803-61:803-60]\n",
    "# y = long_normal_value[:,803-60:]\n",
    "# SMAPE_np(y,yhat)\n",
    "# >> 106.31\n",
    "# yhat = long_normal_value[:,803-61:803-60]\n",
    "# y = long_normal_value[:,803-60:]\n",
    "# np.mean(np.square(y - yhat))\n",
    "# >>> 1.1114173"
   ]
  },
  {
   "cell_type": "code",
   "execution_count": null,
   "metadata": {},
   "outputs": [],
   "source": []
  },
  {
   "cell_type": "code",
   "execution_count": 6,
   "metadata": {},
   "outputs": [],
   "source": [
    "# set up data loader\n",
    "train_gen = SequenceGen(long_value,long_normal_value,start_index,stds,means,useMean=True)\n",
    "train_gen = DataLoader(train_gen,batch_size,True,num_workers=3,drop_last=True)\n",
    "\n",
    "val_gen = SequenceGen(long_value,long_normal_value,start_index,stds,means,random=False,useMean=True)\n",
    "val_gen = DataLoader(val_gen,batch_size,False,num_workers=3)\n",
    "\n",
    "train_gen_nor = SequenceGenNormalized(long_normal_value,start_index)\n",
    "train_gen_nor = DataLoader(train_gen_nor,batch_size,True,num_workers=3,drop_last=True)\n",
    "\n",
    "val_gen_nor = SequenceGenNormalized(long_normal_value,start_index,random=False)\n",
    "val_gen_nor = DataLoader(val_gen_nor,batch_size)"
   ]
  },
  {
   "cell_type": "code",
   "execution_count": null,
   "metadata": {},
   "outputs": [],
   "source": []
  },
  {
   "cell_type": "code",
   "execution_count": 7,
   "metadata": {},
   "outputs": [],
   "source": [
    "conv = Sequential(ConvDropout2dGLU(3,8,3),\n",
    "                  ConvDropout2dGLU(8,16,3),\n",
    "                  ConvDropout2dGLU(16,32,3),\n",
    "                  ConvDropout2dGLU(32,64,3))"
   ]
  },
  {
   "cell_type": "code",
   "execution_count": 8,
   "metadata": {},
   "outputs": [],
   "source": [
    "rnn = GRU_NCL(64,64,2,batch_first=True,dropout=0.5,bidirectional=True)"
   ]
  },
  {
   "cell_type": "code",
   "execution_count": 9,
   "metadata": {},
   "outputs": [],
   "source": [
    "seq_model = Sequential(conv,rnn)"
   ]
  },
  {
   "cell_type": "code",
   "execution_count": 10,
   "metadata": {},
   "outputs": [],
   "source": [
    "linear = Sequential(Linear(128,64),LeakyReLU(0.1,True),Dropout(0.5),Linear(64,1))"
   ]
  },
  {
   "cell_type": "code",
   "execution_count": 11,
   "metadata": {},
   "outputs": [],
   "source": [
    "convert = Sequential(Linear(112,60),LeakyReLU(0.1,True),Dropout(0.5))"
   ]
  },
  {
   "cell_type": "code",
   "execution_count": 12,
   "metadata": {},
   "outputs": [],
   "source": [
    "# model trained on normalized data\n",
    "model_nor = CNN_RNN2seq_normalized_NCL(seq_model,linear,convert).to('cuda:0')"
   ]
  },
  {
   "cell_type": "code",
   "execution_count": 13,
   "metadata": {},
   "outputs": [],
   "source": [
    "loss_func_nor = loss_func_generator_normalized(MSELoss())\n",
    "# loss_func_nor = loss_func_generator_normalized(L1Loss())\n",
    "#loss_func_nor = loss_func_generator_normalized(SMAPE)"
   ]
  },
  {
   "cell_type": "code",
   "execution_count": 14,
   "metadata": {},
   "outputs": [],
   "source": [
    "opt = Adam(trainable_parameter(model_nor),lr=1e-3)"
   ]
  },
  {
   "cell_type": "code",
   "execution_count": 15,
   "metadata": {},
   "outputs": [
    {
     "name": "stdout",
     "output_type": "stream",
     "text": [
      "epoch:0, train_loss:0.8234066663010751, val_loss:0.828204333782196\n",
      "epoch:1, train_loss:0.776049881494107, val_loss:0.8129386305809021\n",
      "epoch:2, train_loss:0.7656428457696203, val_loss:0.8142498731613159\n",
      "epoch:3, train_loss:0.757975368024154, val_loss:0.8186010718345642\n",
      "epoch:4, train_loss:0.752923075986032, val_loss:0.8160735368728638\n",
      "Training completed in 224.22870445251465s\n"
     ]
    }
   ],
   "source": [
    "model_nor = fit(5, model_nor, loss_func_nor, opt, train_gen_nor, val_gen_nor,clip,patience=3)"
   ]
  },
  {
   "cell_type": "code",
   "execution_count": null,
   "metadata": {},
   "outputs": [],
   "source": []
  },
  {
   "cell_type": "code",
   "execution_count": null,
   "metadata": {},
   "outputs": [],
   "source": []
  },
  {
   "cell_type": "code",
   "execution_count": 16,
   "metadata": {},
   "outputs": [],
   "source": [
    "model = CNN_RNN2seq_logNormalized_NCL(seq_model,linear,convert).to('cuda:0')"
   ]
  },
  {
   "cell_type": "code",
   "execution_count": 17,
   "metadata": {},
   "outputs": [],
   "source": [
    "opt = Adam(trainable_parameter(model),lr=1e-4)"
   ]
  },
  {
   "cell_type": "code",
   "execution_count": 18,
   "metadata": {},
   "outputs": [],
   "source": [
    "loss_func = loss_func_generator(SMAPE)"
   ]
  },
  {
   "cell_type": "code",
   "execution_count": 19,
   "metadata": {},
   "outputs": [
    {
     "name": "stdout",
     "output_type": "stream",
     "text": [
      "epoch:0, train_loss:42.955875710996324, val_loss:40.52982711791992\n",
      "epoch:1, train_loss:40.4137877192522, val_loss:38.55618667602539\n",
      "epoch:2, train_loss:39.684311942856546, val_loss:38.38835525512695\n",
      "epoch:3, train_loss:39.29715719371262, val_loss:38.0429801940918\n",
      "epoch:4, train_loss:38.999867041988075, val_loss:37.69680404663086\n",
      "Training completed in 265.99101400375366s\n"
     ]
    }
   ],
   "source": [
    "model = fit(5, model, loss_func, opt, train_gen, val_gen,clip)"
   ]
  },
  {
   "cell_type": "code",
   "execution_count": 20,
   "metadata": {},
   "outputs": [
    {
     "name": "stdout",
     "output_type": "stream",
     "text": [
      "epoch:0, train_loss:38.70683824608363, val_loss:37.43674087524414\n",
      "epoch:1, train_loss:38.34681469517051, val_loss:37.09122085571289\n",
      "epoch:2, train_loss:38.172174513031166, val_loss:37.15676498413086\n",
      "epoch:3, train_loss:38.02480814839892, val_loss:36.928001403808594\n",
      "epoch:4, train_loss:37.95617251618538, val_loss:36.95585250854492\n",
      "Training completed in 264.7246217727661s\n"
     ]
    }
   ],
   "source": [
    "model = fit(5, model, loss_func, opt, train_gen, val_gen,clip,lossBest=37.69680404663086)"
   ]
  },
  {
   "cell_type": "code",
   "execution_count": 21,
   "metadata": {},
   "outputs": [
    {
     "name": "stdout",
     "output_type": "stream",
     "text": [
      "epoch:0, train_loss:37.82309138540159, val_loss:37.09172058105469\n",
      "epoch:1, train_loss:37.775164135750096, val_loss:36.836612701416016\n",
      "epoch:2, train_loss:37.726277976950215, val_loss:36.65525817871094\n",
      "epoch:3, train_loss:37.60961759102777, val_loss:36.988887786865234\n",
      "epoch:4, train_loss:37.51320474061323, val_loss:36.57807159423828\n",
      "epoch:5, train_loss:37.474057098744446, val_loss:36.61368942260742\n",
      "epoch:6, train_loss:37.3048846447406, val_loss:36.478267669677734\n",
      "epoch:7, train_loss:37.354965675433064, val_loss:36.84625244140625\n",
      "epoch:8, train_loss:37.33437985830356, val_loss:36.76797103881836\n",
      "epoch:9, train_loss:37.34441913644267, val_loss:36.79045486450195\n",
      "Training completed in 531.3601024150848s\n"
     ]
    }
   ],
   "source": [
    "model = fit(10, model, loss_func, opt, train_gen, val_gen,clip,lossBest=36.95585250854492)"
   ]
  },
  {
   "cell_type": "code",
   "execution_count": 22,
   "metadata": {},
   "outputs": [
    {
     "name": "stdout",
     "output_type": "stream",
     "text": [
      "epoch:0, train_loss:37.373776925042506, val_loss:36.36301803588867\n",
      "epoch:1, train_loss:37.37110090502803, val_loss:36.606746673583984\n",
      "epoch:2, train_loss:37.29046982187064, val_loss:36.35445785522461\n",
      "epoch:3, train_loss:37.26422443291066, val_loss:36.48810577392578\n",
      "epoch:4, train_loss:37.23846299364159, val_loss:36.62095642089844\n",
      "epoch:5, train_loss:37.22501837676053, val_loss:36.30223846435547\n",
      "epoch:6, train_loss:37.204463266955756, val_loss:36.582359313964844\n",
      "epoch:7, train_loss:37.140206327092464, val_loss:36.51466369628906\n",
      "epoch:8, train_loss:37.075245787072056, val_loss:36.46876525878906\n",
      "epoch:9, train_loss:37.1069020562839, val_loss:36.24162292480469\n",
      "Training completed in 536.5678734779358s\n"
     ]
    }
   ],
   "source": [
    "model = fit(10, model, loss_func, opt, train_gen, val_gen,clip,lossBest=36.478267669677734)"
   ]
  },
  {
   "cell_type": "code",
   "execution_count": null,
   "metadata": {},
   "outputs": [],
   "source": []
  },
  {
   "cell_type": "code",
   "execution_count": null,
   "metadata": {},
   "outputs": [],
   "source": []
  }
 ],
 "metadata": {
  "kernelspec": {
   "display_name": "Python 3",
   "language": "python",
   "name": "python3"
  },
  "language_info": {
   "codemirror_mode": {
    "name": "ipython",
    "version": 3
   },
   "file_extension": ".py",
   "mimetype": "text/x-python",
   "name": "python",
   "nbconvert_exporter": "python",
   "pygments_lexer": "ipython3",
   "version": "3.7.2"
  }
 },
 "nbformat": 4,
 "nbformat_minor": 2
}
