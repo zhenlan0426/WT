{
 "cells": [
  {
   "cell_type": "code",
   "execution_count": 1,
   "metadata": {},
   "outputs": [],
   "source": [
    "import numpy as np\n",
    "from torch.utils.data import DataLoader\n",
    "from functions import *\n",
    "from torch.nn import GRU,Conv1d,Linear,ReLU,Sequential,MSELoss,L1Loss,LeakyReLU,Dropout2d,Dropout\n",
    "from torch.optim import Adam\n",
    "from pytorch_util import *\n",
    "from pytorch_models import ConvBatchRelu1D,GRU_NCL"
   ]
  },
  {
   "cell_type": "code",
   "execution_count": 2,
   "metadata": {},
   "outputs": [],
   "source": [
    "long_page = np.load('../Data/long_page.npy')\n",
    "long_value = np.load('../Data/long_value.npy')\n",
    "start_index = np.load('../Data/start_index.npy')\n",
    "stds = np.load('../Data/stds_log.npy')\n",
    "means = np.load('../Data/means_log.npy')\n",
    "long_normal_value = np.load('../Data/long_lognormal_value.npy')"
   ]
  },
  {
   "cell_type": "code",
   "execution_count": 3,
   "metadata": {},
   "outputs": [],
   "source": [
    "# to account for look back period 365 + 60\n",
    "start_index = start_index + 430"
   ]
  },
  {
   "cell_type": "code",
   "execution_count": 4,
   "metadata": {},
   "outputs": [],
   "source": [
    "## to change ##\n",
    "batch_size = 64\n",
    "clip = .5"
   ]
  },
  {
   "cell_type": "code",
   "execution_count": null,
   "metadata": {},
   "outputs": [],
   "source": []
  },
  {
   "cell_type": "code",
   "execution_count": 5,
   "metadata": {},
   "outputs": [],
   "source": [
    "# baseline model\n",
    "# yhat = long_normal_value[:,803-61:803-60]\n",
    "# y = long_normal_value[:,803-60:]\n",
    "# SMAPE_np(y,yhat)\n",
    "# >> 106.31\n",
    "# yhat = long_normal_value[:,803-61:803-60]\n",
    "# y = long_normal_value[:,803-60:]\n",
    "# np.mean(np.square(y - yhat))\n",
    "# >>> 1.1114173"
   ]
  },
  {
   "cell_type": "code",
   "execution_count": null,
   "metadata": {},
   "outputs": [],
   "source": []
  },
  {
   "cell_type": "code",
   "execution_count": 6,
   "metadata": {},
   "outputs": [],
   "source": [
    "# set up data loader\n",
    "train_gen = SequenceGen(long_value,long_normal_value,start_index,stds,means,useMean=True)\n",
    "train_gen = DataLoader(train_gen,batch_size,True,num_workers=3,drop_last=True)\n",
    "\n",
    "val_gen = SequenceGen(long_value,long_normal_value,start_index,stds,means,random=False,useMean=True)\n",
    "val_gen = DataLoader(val_gen,batch_size,False,num_workers=3)\n",
    "\n",
    "train_gen_nor = SequenceGenNormalized(long_normal_value,start_index)\n",
    "train_gen_nor = DataLoader(train_gen_nor,batch_size,True,num_workers=3,drop_last=True)\n",
    "\n",
    "val_gen_nor = SequenceGenNormalized(long_normal_value,start_index,random=False)\n",
    "val_gen_nor = DataLoader(val_gen_nor,batch_size)"
   ]
  },
  {
   "cell_type": "code",
   "execution_count": null,
   "metadata": {},
   "outputs": [],
   "source": []
  },
  {
   "cell_type": "code",
   "execution_count": 7,
   "metadata": {},
   "outputs": [],
   "source": [
    "conv = Sequential(ConvBatchRelu1D(64,128,3),\n",
    "                  Dropout2d(0.5))"
   ]
  },
  {
   "cell_type": "code",
   "execution_count": 8,
   "metadata": {},
   "outputs": [],
   "source": [
    "rnn = Sequential(GRU_NCL(3,4,1,batch_first=True,bidirectional=True),\n",
    "                 Dropout2d(0.2),\n",
    "                 GRU_NCL(8,8,1,batch_first=True,bidirectional=True),\n",
    "                 Dropout2d(0.4),\n",
    "                 GRU_NCL(16,16,1,batch_first=True,bidirectional=True),\n",
    "                 Dropout2d(0.5),\n",
    "                 GRU_NCL(32,32,1,batch_first=True,bidirectional=True),\n",
    "                 Dropout2d(0.5))"
   ]
  },
  {
   "cell_type": "code",
   "execution_count": 9,
   "metadata": {},
   "outputs": [],
   "source": [
    "seq_model = Sequential(rnn,conv)"
   ]
  },
  {
   "cell_type": "code",
   "execution_count": 10,
   "metadata": {},
   "outputs": [],
   "source": [
    "linear = Sequential(Linear(128,64),LeakyReLU(0.1,True),Dropout(0.5),Linear(64,1))"
   ]
  },
  {
   "cell_type": "code",
   "execution_count": 11,
   "metadata": {},
   "outputs": [],
   "source": [
    "convert = Sequential(Linear(118,60),LeakyReLU(0.1,True),Dropout(0.5))"
   ]
  },
  {
   "cell_type": "code",
   "execution_count": 12,
   "metadata": {},
   "outputs": [],
   "source": [
    "# model trained on normalized data\n",
    "model_nor = CNN_RNN2seq_normalized_NCL(seq_model,linear,convert).to('cuda:0')"
   ]
  },
  {
   "cell_type": "code",
   "execution_count": 13,
   "metadata": {},
   "outputs": [],
   "source": [
    "loss_func_nor = loss_func_generator_normalized(MSELoss())\n",
    "# loss_func_nor = loss_func_generator_normalized(L1Loss())\n",
    "#loss_func_nor = loss_func_generator_normalized(SMAPE)"
   ]
  },
  {
   "cell_type": "code",
   "execution_count": 14,
   "metadata": {},
   "outputs": [],
   "source": [
    "opt = Adam(trainable_parameter(model_nor),lr=1e-3)"
   ]
  },
  {
   "cell_type": "code",
   "execution_count": 15,
   "metadata": {},
   "outputs": [
    {
     "name": "stdout",
     "output_type": "stream",
     "text": [
      "epoch:0, train_loss:0.8071213854409253, val_loss:0.8893548846244812\n",
      "epoch:1, train_loss:0.7536742011191314, val_loss:0.8800632357597351\n",
      "epoch:2, train_loss:0.7430625674329273, val_loss:0.8553664088249207\n",
      "Training completed in 175.31301593780518s\n"
     ]
    }
   ],
   "source": [
    "model_nor = fit(3, model_nor, loss_func_nor, opt, train_gen_nor, val_gen_nor,clip,patience=0)"
   ]
  },
  {
   "cell_type": "code",
   "execution_count": 16,
   "metadata": {},
   "outputs": [
    {
     "name": "stdout",
     "output_type": "stream",
     "text": [
      "epoch:0, train_loss:0.7327165807003801, val_loss:0.8499274849891663\n",
      "epoch:1, train_loss:0.7293048627790392, val_loss:0.8558504581451416\n",
      "epoch:2, train_loss:0.7253457705900459, val_loss:0.8652215600013733\n",
      "Training completed in 176.03125977516174s\n"
     ]
    }
   ],
   "source": [
    "model_nor = fit(3, model_nor, loss_func_nor, opt, train_gen_nor, val_gen_nor,clip,patience=0,lossBest=0.8553664088249207)"
   ]
  },
  {
   "cell_type": "code",
   "execution_count": null,
   "metadata": {},
   "outputs": [],
   "source": []
  },
  {
   "cell_type": "code",
   "execution_count": null,
   "metadata": {},
   "outputs": [],
   "source": []
  },
  {
   "cell_type": "code",
   "execution_count": 17,
   "metadata": {},
   "outputs": [],
   "source": [
    "model = CNN_RNN2seq_logNormalized_NCL(seq_model,linear,convert).to('cuda:0')"
   ]
  },
  {
   "cell_type": "code",
   "execution_count": 18,
   "metadata": {},
   "outputs": [],
   "source": [
    "opt = Adam(trainable_parameter(model),lr=1e-4)"
   ]
  },
  {
   "cell_type": "code",
   "execution_count": 19,
   "metadata": {},
   "outputs": [],
   "source": [
    "loss_func = loss_func_generator(SMAPE)"
   ]
  },
  {
   "cell_type": "code",
   "execution_count": 20,
   "metadata": {},
   "outputs": [
    {
     "name": "stdout",
     "output_type": "stream",
     "text": [
      "epoch:0, train_loss:36.891070227548866, val_loss:37.8990478515625\n",
      "epoch:1, train_loss:36.77038871784902, val_loss:37.789756774902344\n",
      "epoch:2, train_loss:36.57696529250071, val_loss:37.680763244628906\n",
      "epoch:3, train_loss:36.512990286436725, val_loss:37.64724349975586\n",
      "epoch:4, train_loss:36.40552719294099, val_loss:37.49324035644531\n",
      "Training completed in 312.6411306858063s\n"
     ]
    }
   ],
   "source": [
    "model = fit(5, model, loss_func, opt, train_gen, val_gen,clip)"
   ]
  },
  {
   "cell_type": "code",
   "execution_count": 21,
   "metadata": {},
   "outputs": [
    {
     "name": "stdout",
     "output_type": "stream",
     "text": [
      "epoch:0, train_loss:36.48016745611794, val_loss:37.65636444091797\n",
      "epoch:1, train_loss:36.4686381078137, val_loss:37.779563903808594\n",
      "epoch:2, train_loss:36.35943925491886, val_loss:37.52690887451172\n",
      "Training completed in 187.9349467754364s\n"
     ]
    }
   ],
   "source": [
    "model = fit(3, model, loss_func, opt, train_gen, val_gen,clip)"
   ]
  },
  {
   "cell_type": "code",
   "execution_count": null,
   "metadata": {},
   "outputs": [],
   "source": []
  }
 ],
 "metadata": {
  "kernelspec": {
   "display_name": "Python 3",
   "language": "python",
   "name": "python3"
  },
  "language_info": {
   "codemirror_mode": {
    "name": "ipython",
    "version": 3
   },
   "file_extension": ".py",
   "mimetype": "text/x-python",
   "name": "python",
   "nbconvert_exporter": "python",
   "pygments_lexer": "ipython3",
   "version": "3.7.2"
  }
 },
 "nbformat": 4,
 "nbformat_minor": 2
}
