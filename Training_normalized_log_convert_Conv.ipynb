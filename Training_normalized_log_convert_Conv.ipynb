{
 "cells": [
  {
   "cell_type": "code",
   "execution_count": 1,
   "metadata": {},
   "outputs": [],
   "source": [
    "import numpy as np\n",
    "from torch.utils.data import DataLoader\n",
    "from functions import *\n",
    "from torch.nn import GRU,Conv1d,Linear,ReLU,Sequential,MSELoss,L1Loss,LeakyReLU,Dropout2d,Dropout\n",
    "from torch.optim import Adam\n",
    "from pytorch_util import *\n",
    "from pytorch_models import ConvBatchRelu1D,GRU_NCL"
   ]
  },
  {
   "cell_type": "code",
   "execution_count": 2,
   "metadata": {},
   "outputs": [],
   "source": [
    "long_page = np.load('../Data/long_page.npy')\n",
    "long_value = np.load('../Data/long_value.npy')\n",
    "start_index = np.load('../Data/start_index.npy')\n",
    "stds = np.load('../Data/stds_log.npy')\n",
    "means = np.load('../Data/means_log.npy')\n",
    "long_normal_value = np.load('../Data/long_lognormal_value.npy')"
   ]
  },
  {
   "cell_type": "code",
   "execution_count": 3,
   "metadata": {},
   "outputs": [],
   "source": [
    "# to account for look back period 365 + 60\n",
    "start_index = start_index + 430"
   ]
  },
  {
   "cell_type": "code",
   "execution_count": 4,
   "metadata": {},
   "outputs": [],
   "source": [
    "## to change ##\n",
    "batch_size = 64\n",
    "clip = .5"
   ]
  },
  {
   "cell_type": "code",
   "execution_count": null,
   "metadata": {},
   "outputs": [],
   "source": []
  },
  {
   "cell_type": "code",
   "execution_count": 5,
   "metadata": {},
   "outputs": [],
   "source": [
    "# baseline model\n",
    "# yhat = long_normal_value[:,803-61:803-60]\n",
    "# y = long_normal_value[:,803-60:]\n",
    "# SMAPE_np(y,yhat)\n",
    "# >> 106.31\n",
    "# yhat = long_normal_value[:,803-61:803-60]\n",
    "# y = long_normal_value[:,803-60:]\n",
    "# np.mean(np.square(y - yhat))\n",
    "# >>> 1.1114173"
   ]
  },
  {
   "cell_type": "code",
   "execution_count": null,
   "metadata": {},
   "outputs": [],
   "source": []
  },
  {
   "cell_type": "code",
   "execution_count": 5,
   "metadata": {},
   "outputs": [],
   "source": [
    "# set up data loader\n",
    "train_gen = SequenceGen(long_value,long_normal_value,start_index,stds,means,useMean=True)\n",
    "train_gen = DataLoader(train_gen,batch_size,True,num_workers=3,drop_last=True)\n",
    "\n",
    "val_gen = SequenceGen(long_value,long_normal_value,start_index,stds,means,random=False,useMean=True)\n",
    "val_gen = DataLoader(val_gen,batch_size,False,num_workers=3)\n",
    "\n",
    "train_gen_nor = SequenceGenNormalized(long_normal_value,start_index)\n",
    "train_gen_nor = DataLoader(train_gen_nor,batch_size,True,num_workers=3,drop_last=True)\n",
    "\n",
    "val_gen_nor = SequenceGenNormalized(long_normal_value,start_index,random=False)\n",
    "val_gen_nor = DataLoader(val_gen_nor,batch_size)"
   ]
  },
  {
   "cell_type": "code",
   "execution_count": null,
   "metadata": {},
   "outputs": [],
   "source": []
  },
  {
   "cell_type": "code",
   "execution_count": 25,
   "metadata": {},
   "outputs": [],
   "source": [
    "conv = Sequential(ConvBatchRelu1D(3,8,3),\n",
    "                  Dropout(0.1),\n",
    "                  ConvBatchRelu1D(8,16,3),\n",
    "                  Dropout(0.2),\n",
    "                  ConvBatchRelu1D(16,32,3),\n",
    "                  Dropout(0.3),\n",
    "                  ConvBatchRelu1D(32,64,3),\n",
    "                  Dropout(0.5),\n",
    "                  ConvBatchRelu1D(64,128,3),\n",
    "                  Dropout(0.6))"
   ]
  },
  {
   "cell_type": "code",
   "execution_count": 26,
   "metadata": {},
   "outputs": [],
   "source": [
    "seq_model = conv"
   ]
  },
  {
   "cell_type": "code",
   "execution_count": 27,
   "metadata": {},
   "outputs": [],
   "source": [
    "linear = Sequential(Linear(128,64),LeakyReLU(0.1,True),Dropout(0.5),Linear(64,1))"
   ]
  },
  {
   "cell_type": "code",
   "execution_count": 28,
   "metadata": {},
   "outputs": [],
   "source": [
    "convert = Sequential(Linear(110,60),LeakyReLU(0.1,True),Dropout(0.5))"
   ]
  },
  {
   "cell_type": "code",
   "execution_count": 29,
   "metadata": {},
   "outputs": [],
   "source": [
    "# model trained on normalized data\n",
    "model_nor = CNN_RNN2seq_normalized_NCL(seq_model,linear,convert).to('cuda:0')"
   ]
  },
  {
   "cell_type": "code",
   "execution_count": 30,
   "metadata": {},
   "outputs": [],
   "source": [
    "loss_func_nor = loss_func_generator_normalized(MSELoss())\n",
    "# loss_func_nor = loss_func_generator_normalized(L1Loss())\n",
    "#loss_func_nor = loss_func_generator_normalized(SMAPE)"
   ]
  },
  {
   "cell_type": "code",
   "execution_count": 31,
   "metadata": {},
   "outputs": [],
   "source": [
    "opt = Adam(trainable_parameter(model_nor),lr=1e-3)"
   ]
  },
  {
   "cell_type": "code",
   "execution_count": 32,
   "metadata": {},
   "outputs": [
    {
     "name": "stdout",
     "output_type": "stream",
     "text": [
      "epoch:0, train_loss:0.8068458331063622, val_loss:0.8406159281730652\n",
      "epoch:1, train_loss:0.7737093387953358, val_loss:0.8701293468475342\n",
      "epoch:2, train_loss:0.7637718478941546, val_loss:0.8746597170829773\n",
      "Training completed in 49.20552587509155s\n"
     ]
    }
   ],
   "source": [
    "model_nor = fit(3, model_nor, loss_func_nor, opt, train_gen_nor, val_gen_nor,clip,patience=0)"
   ]
  },
  {
   "cell_type": "code",
   "execution_count": 33,
   "metadata": {},
   "outputs": [
    {
     "name": "stdout",
     "output_type": "stream",
     "text": [
      "epoch:0, train_loss:0.7736423231005051, val_loss:0.8738323450088501\n",
      "epoch:1, train_loss:0.7646969530403305, val_loss:0.8833514451980591\n",
      "epoch:2, train_loss:0.7604822883334185, val_loss:0.9003375172615051\n",
      "Training completed in 49.13328671455383s\n"
     ]
    }
   ],
   "source": [
    "model_nor = fit(3, model_nor, loss_func_nor, opt, train_gen_nor, val_gen_nor,clip,patience=0,lossBest=0.8406159281730652)"
   ]
  },
  {
   "cell_type": "code",
   "execution_count": null,
   "metadata": {},
   "outputs": [],
   "source": []
  },
  {
   "cell_type": "code",
   "execution_count": null,
   "metadata": {},
   "outputs": [],
   "source": []
  },
  {
   "cell_type": "code",
   "execution_count": 34,
   "metadata": {},
   "outputs": [],
   "source": [
    "model = CNN_RNN2seq_logNormalized_NCL(seq_model,linear,convert).to('cuda:0')"
   ]
  },
  {
   "cell_type": "code",
   "execution_count": 35,
   "metadata": {},
   "outputs": [],
   "source": [
    "opt = Adam(trainable_parameter(model),lr=1e-4)"
   ]
  },
  {
   "cell_type": "code",
   "execution_count": 36,
   "metadata": {},
   "outputs": [],
   "source": [
    "loss_func = loss_func_generator(SMAPE)"
   ]
  },
  {
   "cell_type": "code",
   "execution_count": 37,
   "metadata": {},
   "outputs": [
    {
     "name": "stdout",
     "output_type": "stream",
     "text": [
      "epoch:0, train_loss:38.062813891277415, val_loss:37.79411697387695\n",
      "epoch:1, train_loss:37.83820589194026, val_loss:37.58927536010742\n",
      "epoch:2, train_loss:37.733674874577495, val_loss:37.209144592285156\n",
      "epoch:3, train_loss:37.72064845426095, val_loss:37.24424362182617\n",
      "epoch:4, train_loss:37.66216705598979, val_loss:37.532955169677734\n",
      "Training completed in 96.11725068092346s\n"
     ]
    }
   ],
   "source": [
    "model = fit(5, model, loss_func, opt, train_gen, val_gen,clip)"
   ]
  },
  {
   "cell_type": "code",
   "execution_count": 38,
   "metadata": {},
   "outputs": [
    {
     "name": "stdout",
     "output_type": "stream",
     "text": [
      "epoch:0, train_loss:37.72080066265838, val_loss:37.402931213378906\n",
      "epoch:1, train_loss:37.599040530506194, val_loss:37.273502349853516\n",
      "epoch:2, train_loss:37.55847692440211, val_loss:37.09085464477539\n",
      "Training completed in 58.10332131385803s\n"
     ]
    }
   ],
   "source": [
    "model = fit(3, model, loss_func, opt, train_gen, val_gen,clip)"
   ]
  },
  {
   "cell_type": "code",
   "execution_count": 39,
   "metadata": {},
   "outputs": [
    {
     "name": "stdout",
     "output_type": "stream",
     "text": [
      "epoch:0, train_loss:37.622895582722876, val_loss:37.062557220458984\n",
      "epoch:1, train_loss:37.500365000314666, val_loss:36.955169677734375\n",
      "epoch:2, train_loss:37.534593821313095, val_loss:36.611995697021484\n",
      "Training completed in 57.837735652923584s\n"
     ]
    }
   ],
   "source": [
    "model = fit(3, model, loss_func, opt, train_gen, val_gen,clip,lossBest=37.09085464477539)"
   ]
  },
  {
   "cell_type": "code",
   "execution_count": 40,
   "metadata": {},
   "outputs": [
    {
     "name": "stdout",
     "output_type": "stream",
     "text": [
      "epoch:0, train_loss:37.49086432778156, val_loss:36.972137451171875\n",
      "epoch:1, train_loss:37.42799619862453, val_loss:36.60200881958008\n",
      "epoch:2, train_loss:37.384181678851036, val_loss:36.831993103027344\n",
      "Training completed in 57.70332932472229s\n"
     ]
    }
   ],
   "source": [
    "model = fit(3, model, loss_func, opt, train_gen, val_gen,clip,lossBest=36.611995697021484)"
   ]
  },
  {
   "cell_type": "code",
   "execution_count": 41,
   "metadata": {},
   "outputs": [
    {
     "name": "stdout",
     "output_type": "stream",
     "text": [
      "epoch:0, train_loss:37.453094677109796, val_loss:36.82497024536133\n",
      "epoch:1, train_loss:37.38498774810159, val_loss:36.749813079833984\n",
      "epoch:2, train_loss:37.39038259081272, val_loss:36.554588317871094\n",
      "Training completed in 57.62628221511841s\n"
     ]
    }
   ],
   "source": [
    "model = fit(3, model, loss_func, opt, train_gen, val_gen,clip,lossBest=36.602)"
   ]
  },
  {
   "cell_type": "code",
   "execution_count": 42,
   "metadata": {},
   "outputs": [
    {
     "name": "stdout",
     "output_type": "stream",
     "text": [
      "epoch:0, train_loss:37.33007209461588, val_loss:36.761878967285156\n",
      "epoch:1, train_loss:37.36564198923852, val_loss:36.53905487060547\n",
      "epoch:2, train_loss:37.376305666118085, val_loss:36.71700668334961\n",
      "epoch:3, train_loss:37.356879772917594, val_loss:36.68766784667969\n",
      "epoch:4, train_loss:37.30729416071442, val_loss:36.281307220458984\n",
      "epoch:5, train_loss:37.32709844520055, val_loss:36.490234375\n",
      "Training completed in 115.63556814193726s\n"
     ]
    }
   ],
   "source": [
    "model = fit(6, model, loss_func, opt, train_gen, val_gen,clip,lossBest=36.554588317871094)"
   ]
  },
  {
   "cell_type": "code",
   "execution_count": 43,
   "metadata": {},
   "outputs": [
    {
     "name": "stdout",
     "output_type": "stream",
     "text": [
      "epoch:0, train_loss:37.320939521591896, val_loss:36.31989288330078\n",
      "epoch:1, train_loss:37.23228143879787, val_loss:36.52996826171875\n",
      "epoch:2, train_loss:37.30782368516675, val_loss:36.29140853881836\n",
      "epoch:3, train_loss:37.281723181571365, val_loss:36.51573944091797\n",
      "epoch:4, train_loss:37.21148258070872, val_loss:36.33281326293945\n",
      "epoch:5, train_loss:37.226014154068544, val_loss:36.36334228515625\n",
      "epoch:6, train_loss:37.246051863438105, val_loss:36.31577682495117\n",
      "epoch:7, train_loss:37.19211706546922, val_loss:36.6376953125\n",
      "epoch:8, train_loss:37.13130149940135, val_loss:36.327266693115234\n",
      "epoch:9, train_loss:37.148124244176046, val_loss:36.40510559082031\n",
      "Training completed in 193.1802475452423s\n"
     ]
    }
   ],
   "source": [
    "model = fit(10, model, loss_func, opt, train_gen, val_gen,clip,lossBest=36.281)"
   ]
  },
  {
   "cell_type": "code",
   "execution_count": null,
   "metadata": {},
   "outputs": [],
   "source": []
  },
  {
   "cell_type": "code",
   "execution_count": null,
   "metadata": {},
   "outputs": [],
   "source": []
  }
 ],
 "metadata": {
  "kernelspec": {
   "display_name": "Python 3",
   "language": "python",
   "name": "python3"
  },
  "language_info": {
   "codemirror_mode": {
    "name": "ipython",
    "version": 3
   },
   "file_extension": ".py",
   "mimetype": "text/x-python",
   "name": "python",
   "nbconvert_exporter": "python",
   "pygments_lexer": "ipython3",
   "version": "3.7.2"
  }
 },
 "nbformat": 4,
 "nbformat_minor": 2
}
