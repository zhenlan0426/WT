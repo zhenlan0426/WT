{
 "cells": [
  {
   "cell_type": "code",
   "execution_count": 1,
   "metadata": {},
   "outputs": [],
   "source": [
    "import numpy as np\n",
    "from torch.utils.data import DataLoader\n",
    "from functions import SequenceGen,CNN_RNN2seq,loss_func_generator\n",
    "from torch.nn import GRU,Conv1d,Linear,ReLU,Sequential,MSELoss,L1Loss\n",
    "from torch.optim import Adam\n",
    "from pytorch_util import *\n",
    "from pytorch_models import ConvBatchRelu1D"
   ]
  },
  {
   "cell_type": "code",
   "execution_count": 2,
   "metadata": {},
   "outputs": [],
   "source": [
    "long_page = np.load('../Data/long_page.npy')\n",
    "long_value = np.load('../Data/long_value.npy')\n",
    "start_index = np.load('../Data/start_index.npy')\n",
    "stds = np.load('../Data/stds.npy')\n",
    "means = np.load('../Data/means.npy')\n",
    "long_normal_value = np.load('../Data/long_normal_value.npy')"
   ]
  },
  {
   "cell_type": "code",
   "execution_count": 3,
   "metadata": {},
   "outputs": [],
   "source": [
    "# to account for look back period 365 + 60\n",
    "start_index = start_index + 430"
   ]
  },
  {
   "cell_type": "code",
   "execution_count": 4,
   "metadata": {},
   "outputs": [],
   "source": [
    "## to change ##\n",
    "batch_size = 64\n",
    "clip = 5"
   ]
  },
  {
   "cell_type": "code",
   "execution_count": null,
   "metadata": {},
   "outputs": [],
   "source": []
  },
  {
   "cell_type": "code",
   "execution_count": 5,
   "metadata": {},
   "outputs": [],
   "source": [
    "train_gen = SequenceGen(long_value,long_normal_value,start_index,stds,means)\n",
    "train_gen = DataLoader(train_gen,batch_size,True,num_workers=3,drop_last=True)"
   ]
  },
  {
   "cell_type": "code",
   "execution_count": 6,
   "metadata": {},
   "outputs": [],
   "source": [
    "val_gen = SequenceGen(long_value,long_normal_value,start_index,stds,means,random=False)\n",
    "val_gen = DataLoader(val_gen,batch_size,False,num_workers=3)"
   ]
  },
  {
   "cell_type": "code",
   "execution_count": null,
   "metadata": {},
   "outputs": [],
   "source": []
  },
  {
   "cell_type": "code",
   "execution_count": 7,
   "metadata": {},
   "outputs": [],
   "source": [
    "conv = Sequential(ConvBatchRelu1D(3,8,3),ConvBatchRelu1D(8,16,3))"
   ]
  },
  {
   "cell_type": "code",
   "execution_count": 8,
   "metadata": {},
   "outputs": [],
   "source": [
    "rnn = GRU(16,32,2,batch_first=True)"
   ]
  },
  {
   "cell_type": "code",
   "execution_count": 9,
   "metadata": {},
   "outputs": [],
   "source": [
    "linear = Sequential(Linear(32,32),ReLU(True),Linear(32,1))"
   ]
  },
  {
   "cell_type": "code",
   "execution_count": 10,
   "metadata": {},
   "outputs": [],
   "source": [
    "model = CNN_RNN2seq(conv,rnn,linear).to('cuda:0')"
   ]
  },
  {
   "cell_type": "code",
   "execution_count": 11,
   "metadata": {},
   "outputs": [],
   "source": [
    "#loss_func = loss_func_generator(MSELoss())\n",
    "loss_func = loss_func_generator(L1Loss())"
   ]
  },
  {
   "cell_type": "code",
   "execution_count": 12,
   "metadata": {},
   "outputs": [],
   "source": [
    "opt = Adam(trainable_parameter(model),lr=4e-4)"
   ]
  },
  {
   "cell_type": "code",
   "execution_count": 13,
   "metadata": {
    "scrolled": true
   },
   "outputs": [
    {
     "name": "stdout",
     "output_type": "stream",
     "text": [
      "epoch:0, train_loss:516.2224500863663, val_loss:423.1395568847656\n",
      "epoch:1, train_loss:522.4179334768977, val_loss:419.86614990234375\n",
      "epoch:2, train_loss:459.125440109332, val_loss:410.1759033203125\n",
      "epoch:3, train_loss:484.43135341189685, val_loss:431.9317321777344\n",
      "epoch:4, train_loss:474.0166014241431, val_loss:413.0675964355469\n",
      "Training completed in 122.41518807411194s\n"
     ]
    }
   ],
   "source": [
    "model = fit(5, model, loss_func, opt, train_gen, val_gen,clip)"
   ]
  },
  {
   "cell_type": "code",
   "execution_count": null,
   "metadata": {},
   "outputs": [
    {
     "name": "stdout",
     "output_type": "stream",
     "text": [
      "epoch:0, train_loss:476.0807703838447, val_loss:458.9748840332031\n",
      "epoch:1, train_loss:467.7023991046174, val_loss:416.1054992675781\n",
      "epoch:2, train_loss:470.24124307187725, val_loss:416.5970153808594\n"
     ]
    }
   ],
   "source": [
    "model = fit(5, model, loss_func, opt, train_gen, val_gen,clip)"
   ]
  },
  {
   "cell_type": "code",
   "execution_count": null,
   "metadata": {},
   "outputs": [],
   "source": []
  },
  {
   "cell_type": "code",
   "execution_count": 57,
   "metadata": {},
   "outputs": [
    {
     "name": "stdout",
     "output_type": "stream",
     "text": [
      "epoch:0, train_loss:453.40325307895483, val_loss:388.83056640625\n",
      "epoch:1, train_loss:460.2913464798211, val_loss:399.4738464355469\n",
      "epoch:2, train_loss:447.76573085488434, val_loss:388.8795166015625\n",
      "epoch:3, train_loss:459.36252158762875, val_loss:417.07769775390625\n",
      "epoch:4, train_loss:472.74120201150373, val_loss:411.1145324707031\n",
      "Training completed in 116.52871489524841s\n"
     ]
    }
   ],
   "source": [
    "model = fit(5, model, loss_func, opt, train_gen, val_gen,clip)"
   ]
  },
  {
   "cell_type": "code",
   "execution_count": 44,
   "metadata": {},
   "outputs": [
    {
     "name": "stdout",
     "output_type": "stream",
     "text": [
      "epoch:0, train_loss:243731281.47686204, val_loss:352947872.0\n",
      "epoch:1, train_loss:162734201.00873542, val_loss:384095360.0\n",
      "epoch:2, train_loss:237149216.76161352, val_loss:402067968.0\n",
      "epoch:3, train_loss:309695295.2885687, val_loss:395591584.0\n",
      "epoch:4, train_loss:450304753.7159488, val_loss:371910048.0\n",
      "Training completed in 115.90913200378418s\n"
     ]
    }
   ],
   "source": [
    "model = fit(5, model, loss_func, opt, train_gen, val_gen,clip)"
   ]
  },
  {
   "cell_type": "code",
   "execution_count": 45,
   "metadata": {},
   "outputs": [
    {
     "name": "stdout",
     "output_type": "stream",
     "text": [
      "epoch:0, train_loss:176948029.24694785, val_loss:426597440.0\n",
      "epoch:1, train_loss:218645887.9099984, val_loss:275012864.0\n",
      "epoch:2, train_loss:185636824.397636, val_loss:373682208.0\n",
      "epoch:3, train_loss:247238947.61224094, val_loss:452415584.0\n",
      "epoch:4, train_loss:154909668.08329016, val_loss:330578016.0\n",
      "Training completed in 115.73838496208191s\n"
     ]
    }
   ],
   "source": [
    "model = fit(5, model, loss_func, opt, train_gen, val_gen,clip)"
   ]
  },
  {
   "cell_type": "code",
   "execution_count": null,
   "metadata": {},
   "outputs": [],
   "source": []
  },
  {
   "cell_type": "code",
   "execution_count": null,
   "metadata": {},
   "outputs": [],
   "source": [
    "clip_grad_value_"
   ]
  },
  {
   "cell_type": "code",
   "execution_count": 56,
   "metadata": {},
   "outputs": [],
   "source": [
    "def fit(epochs, model, loss_func, opt, train_dl, valid_dl,clip=0):\n",
    "    # assume loss_func returns mean rather than sum\n",
    "    since = time.time()\n",
    "    opt.zero_grad()\n",
    "    train_batch = len(train_dl.dataset)//train_dl.batch_size\n",
    "    val_batch = len(valid_dl.dataset)//valid_dl.batch_size\n",
    "    if clip!=0:\n",
    "        paras = trainable_parameter(model)\n",
    "        \n",
    "    for epoch in range(epochs):\n",
    "        # training #\n",
    "        model.train()\n",
    "        train_loss = 0\n",
    "        for data in train_dl:\n",
    "            loss = loss_func(model,data2cuda(data))\n",
    "            loss.backward()\n",
    "            if clip!=0:\n",
    "                clip_grad_value_(paras,clip)\n",
    "            opt.step()\n",
    "            opt.zero_grad()\n",
    "            train_loss += loss.item()\n",
    "        \n",
    "        # evaluating #\n",
    "        val_loss = evaluate(model,valid_dl,loss_func,val_batch)\n",
    "        print('epoch:{}, train_loss:{}, val_loss:{}'.format(epoch,train_loss/train_batch,val_loss))\n",
    "    \n",
    "    time_elapsed = time.time() - since\n",
    "    print('Training completed in {}s'.format(time_elapsed))\n",
    "    return model"
   ]
  },
  {
   "cell_type": "code",
   "execution_count": null,
   "metadata": {},
   "outputs": [],
   "source": []
  },
  {
   "cell_type": "code",
   "execution_count": null,
   "metadata": {},
   "outputs": [],
   "source": []
  }
 ],
 "metadata": {
  "kernelspec": {
   "display_name": "Python 3",
   "language": "python",
   "name": "python3"
  },
  "language_info": {
   "codemirror_mode": {
    "name": "ipython",
    "version": 3
   },
   "file_extension": ".py",
   "mimetype": "text/x-python",
   "name": "python",
   "nbconvert_exporter": "python",
   "pygments_lexer": "ipython3",
   "version": "3.7.2"
  }
 },
 "nbformat": 4,
 "nbformat_minor": 2
}
