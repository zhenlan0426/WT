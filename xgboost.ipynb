{
 "cells": [
  {
   "cell_type": "code",
   "execution_count": 1,
   "metadata": {},
   "outputs": [],
   "source": [
    "import pandas as pd\n",
    "import numpy as np\n",
    "from sklearn.preprocessing import OneHotEncoder\n",
    "import timeit\n",
    "import xgboost as xgb"
   ]
  },
  {
   "cell_type": "code",
   "execution_count": 2,
   "metadata": {},
   "outputs": [],
   "source": [
    "train1  = pd.read_csv('train_2.csv')\n",
    "missing = train1.isnull()\n",
    "train1 = train1.fillna(0)\n",
    "train1.iloc[:,1:] = train1.iloc[:,1:].astype(np.float32)\n",
    "n = train1.shape[0]"
   ]
  },
  {
   "cell_type": "code",
   "execution_count": null,
   "metadata": {},
   "outputs": [],
   "source": []
  },
  {
   "cell_type": "code",
   "execution_count": 3,
   "metadata": {},
   "outputs": [],
   "source": [
    "a = train1.Page.str.split('mediawiki.org|wikimedia.org|wikipedia.org',expand=True)\n",
    "b = np.where(a.loc[:,2].isnull(),a.loc[:,1],a.loc[:,2])\n",
    "_,index_array = np.unique(b,return_inverse=True) # access & agent\n",
    "website_array = [train1.Page.str.contains(web).values.astype(np.int8) \\\n",
    "                 for web in ['mediawiki.org','wikimedia.org','wikipedia.org']] # website\n",
    "lang_array = train1.Page.str.extract('([a-z]{2}).wikipedia').fillna('nan').values.flatten()\n",
    "_,lang_array = np.unique(lang_array,return_inverse=True) # language"
   ]
  },
  {
   "cell_type": "code",
   "execution_count": 4,
   "metadata": {},
   "outputs": [],
   "source": [
    "Page_X = \\\n",
    "np.concatenate([OneHotEncoder(dtype=np.float32,sparse=False).fit_transform(lang_array[:,np.newaxis]),\\\n",
    "                OneHotEncoder(dtype=np.float32,sparse=False).fit_transform(index_array[:,np.newaxis]),\\\n",
    "                np.stack(website_array,1)],1)"
   ]
  },
  {
   "cell_type": "code",
   "execution_count": null,
   "metadata": {},
   "outputs": [],
   "source": []
  },
  {
   "cell_type": "code",
   "execution_count": 18,
   "metadata": {},
   "outputs": [],
   "source": [
    "date_index=pd.to_datetime(train1.columns[1:]).to_series().reset_index(drop=True)\n",
    "def extract_date_info(timestamp,mss):\n",
    "    return np.array([mss, timestamp.day, \\\n",
    "                     timestamp.dayofyear,timestamp.year]+\\\n",
    "                    [1 if i==timestamp.weekday() else 0 for i in range(7)]+\\\n",
    "                    [1 if i==timestamp.month else 0 for i in range(12)])"
   ]
  },
  {
   "cell_type": "code",
   "execution_count": 19,
   "metadata": {},
   "outputs": [],
   "source": [
    "d = extract_date_info(date_index[3],3).shape[0]"
   ]
  },
  {
   "cell_type": "code",
   "execution_count": 21,
   "metadata": {},
   "outputs": [],
   "source": [
    "max_ = lambda df,start,interval: np.max(df.iloc[:,start-interval:start].values,1)\n",
    "min_ = lambda df,start,interval: np.min(df.iloc[:,start-interval:start].values,1)\n",
    "std_ = lambda df,start,interval: np.std(df.iloc[:,start-interval:start].values,1)\n",
    "mean_ = lambda df,start,interval: np.mean(df.iloc[:,start-interval:start].values,1)\n",
    "growth_ = lambda df,start,interval: np.mean(df.iloc[:,start-interval:start],1) -\\\n",
    "                                    np.mean(df.iloc[:,start-2*interval:start-interval],1)\n",
    "\n",
    "fun_list = [max_,min_,std_,mean_,growth_]\n",
    "interval_list = [14,30,60]\n",
    "T = train1.shape[1]"
   ]
  },
  {
   "cell_type": "code",
   "execution_count": null,
   "metadata": {},
   "outputs": [],
   "source": []
  },
  {
   "cell_type": "code",
   "execution_count": null,
   "metadata": {},
   "outputs": [],
   "source": [
    "#margain_ = np.median(train1.iloc[:,1:].values,1)\n",
    "#margain_ = np.where(margain_==0,-20,np.log(margain_))"
   ]
  },
  {
   "cell_type": "code",
   "execution_count": 22,
   "metadata": {},
   "outputs": [],
   "source": [
    "downSampleRate = 0.5\n",
    "j = T - 64\n",
    "Lookback_X = np.stack([fun(train1,j,interval) for fun in fun_list for interval in interval_list],1)\n",
    "testData = []\n",
    "testMargain = []\n",
    "for i in range(j+2,j+64):\n",
    "    temp = np.concatenate([train1.iloc[:,i].values[:,np.newaxis],\\\n",
    "                           Page_X,\\\n",
    "                           np.broadcast_to(extract_date_info(date_index[i-1],i-j),(n,d)),\\\n",
    "                           Lookback_X,\\\n",
    "                           train1.iloc[:,j-1:j].values,\\\n",
    "                           train1.iloc[:,i-90:i-89].values,\\\n",
    "                           train1.iloc[:,i-120:i-119].values,\\\n",
    "                           train1.iloc[:,i-180:i-179].values,\\\n",
    "                           train1.iloc[:,i-365:i-364].values],1).astype(np.float32)\n",
    "    nonmissing_index = np.logical_not(missing.iloc[:,i].values)\n",
    "    random_index = np.random.rand(nonmissing_index.sum())<downSampleRate\n",
    "    testData.append(temp[nonmissing_index][random_index])\n",
    "    #testMargain.append(margain_[nonmissing_index][random_index])\n",
    "    testMargain.append(train1.iloc[:,j-1].values[nonmissing_index][random_index])\n",
    "testData = np.concatenate(testData,0)\n",
    "testMargain = np.concatenate(testMargain,0)    "
   ]
  },
  {
   "cell_type": "code",
   "execution_count": null,
   "metadata": {},
   "outputs": [],
   "source": []
  },
  {
   "cell_type": "code",
   "execution_count": 23,
   "metadata": {},
   "outputs": [],
   "source": [
    "downSampleRate = 0.1\n",
    "trainData = []\n",
    "trainMargain = []\n",
    "for j in range(T-65*2,350,-70):\n",
    "    Lookback_X = np.stack([fun(train1,j,interval) for fun in fun_list for interval in interval_list],1)\n",
    "    for i in range(j+2,j+64):\n",
    "        temp = np.concatenate([train1.iloc[:,i].values[:,np.newaxis],\\\n",
    "                               Page_X,\\\n",
    "                               np.broadcast_to(extract_date_info(date_index[i-1],i-j),(n,d)),\\\n",
    "                               Lookback_X,\\\n",
    "                               train1.iloc[:,j-1:j].values,\\\n",
    "                               train1.iloc[:,i-90:i-89].values,\\\n",
    "                               train1.iloc[:,i-120:i-119].values,\\\n",
    "                               train1.iloc[:,i-180:i-179].values,\\\n",
    "                               train1.iloc[:,i-365:i-364].values],1).astype(np.float32)\n",
    "        nonmissing_index = np.logical_not(missing.iloc[:,i].values)\n",
    "        random_index = np.random.rand(nonmissing_index.sum())<downSampleRate\n",
    "        trainData.append(temp[nonmissing_index][random_index])\n",
    "        #trainMargain.append(margain_[nonmissing_index][random_index])\n",
    "        trainMargain.append(train1.iloc[:,j-1].values[nonmissing_index][random_index])\n",
    "trainData = np.concatenate(trainData,0)\n",
    "trainMargain = np.concatenate(trainMargain,0)"
   ]
  },
  {
   "cell_type": "code",
   "execution_count": null,
   "metadata": {},
   "outputs": [],
   "source": []
  },
  {
   "cell_type": "code",
   "execution_count": 24,
   "metadata": {},
   "outputs": [],
   "source": [
    "# Data corruption when creating a a DMatrix with label being a non-contiguous ndarray #2554\n",
    "dtrain = xgb.DMatrix(np.ascontiguousarray(trainData[:,1:]),label=np.ascontiguousarray(trainData[:,0]))\n",
    "dtest = xgb.DMatrix(np.ascontiguousarray(testData[:,1:]),label=np.ascontiguousarray(testData[:,0]))"
   ]
  },
  {
   "cell_type": "code",
   "execution_count": 25,
   "metadata": {},
   "outputs": [],
   "source": [
    "dtrain.set_base_margin(trainMargain)\n",
    "dtest.set_base_margin(testMargain)\n",
    "watchlist = [(dtest, 'eval'), (dtrain, 'train')]"
   ]
  },
  {
   "cell_type": "code",
   "execution_count": null,
   "metadata": {},
   "outputs": [],
   "source": []
  },
  {
   "cell_type": "markdown",
   "metadata": {},
   "source": [
    "after hyper-parameter tuning, find the best num_round"
   ]
  },
  {
   "cell_type": "code",
   "execution_count": 26,
   "metadata": {},
   "outputs": [],
   "source": [
    "eps = 0.1\n",
    "floor = 0.1\n",
    "neg_grad = -1.0"
   ]
  },
  {
   "cell_type": "code",
   "execution_count": 27,
   "metadata": {},
   "outputs": [],
   "source": [
    "def SMAPE_train(preds, dtrain):\n",
    "    y = dtrain.get_label()\n",
    "    temp = (2*y+eps)/(preds+y+eps)**2\n",
    "    grad = np.where(preds>y,temp,np.where(preds<0,neg_grad,-1*temp))\n",
    "    #index_ = np.isfinite(grad)\n",
    "    #non_index_ = np.logical_not(index_)\n",
    "    #print(preds[non_index_],y[non_index_])\n",
    "    hess = np.ones_like(grad)\n",
    "    return grad, hess\n",
    "\n",
    "def SMAPE_eval(preds, dtrain):\n",
    "    y = dtrain.get_label()\n",
    "    summ = np.abs(y) + np.abs(preds)\n",
    "    return 'SMAPE', 200*np.mean(np.where(summ==0, 0, np.abs(y - preds) / summ))"
   ]
  },
  {
   "cell_type": "code",
   "execution_count": null,
   "metadata": {},
   "outputs": [],
   "source": []
  },
  {
   "cell_type": "code",
   "execution_count": null,
   "metadata": {
    "scrolled": true
   },
   "outputs": [],
   "source": [
    "start_time = timeit.default_timer()\n",
    "model_gbm = xgb.train(params, dtrain, num_round, watchlist, \\\n",
    "                      verbose_eval=100,\\\n",
    "                      obj=SMAPE_train, feval=SMAPE_eval,xgb_model=model_gbm)\n",
    "print(\"--- %s seconds ---\" % (timeit.default_timer() - start_time))"
   ]
  },
  {
   "cell_type": "code",
   "execution_count": null,
   "metadata": {},
   "outputs": [],
   "source": []
  },
  {
   "cell_type": "markdown",
   "metadata": {},
   "source": [
    "Fit final model with both train and test data"
   ]
  },
  {
   "cell_type": "code",
   "execution_count": 49,
   "metadata": {},
   "outputs": [],
   "source": [
    "# Data corruption when creating a a DMatrix with label being a non-contiguous ndarray #2554\n",
    "dtrain = xgb.DMatrix(np.ascontiguousarray(np.concatenate([trainData[:,1:],testData[:,1:]],0)),\\\n",
    "                     np.ascontiguousarray(np.concatenate([trainData[:,0],testData[:,0]],0)))"
   ]
  },
  {
   "cell_type": "code",
   "execution_count": 50,
   "metadata": {},
   "outputs": [],
   "source": [
    "dtrain.set_base_margin(np.ascontiguousarray(np.concatenate([trainMargain,testMargain],0)))\n",
    "watchlist = [(dtrain, 'train')]"
   ]
  },
  {
   "cell_type": "code",
   "execution_count": 33,
   "metadata": {},
   "outputs": [],
   "source": [
    "num_round = 1000\n",
    "params =   {'eta': 1e-1,\n",
    "            'subsample': 0.05,\n",
    "            'booster':'gblinear'}"
   ]
  },
  {
   "cell_type": "code",
   "execution_count": null,
   "metadata": {},
   "outputs": [],
   "source": [
    "            "
   ]
  },
  {
   "cell_type": "code",
   "execution_count": 34,
   "metadata": {},
   "outputs": [
    {
     "name": "stdout",
     "output_type": "stream",
     "text": [
      "[0]\ttrain-rmse:53776.8\ttrain-SMAPE:50.2912\n",
      "[100]\ttrain-rmse:53776.8\ttrain-SMAPE:48.7205\n",
      "[200]\ttrain-rmse:53776.8\ttrain-SMAPE:48.2559\n",
      "[300]\ttrain-rmse:53776.8\ttrain-SMAPE:48.1895\n",
      "[400]\ttrain-rmse:53776.8\ttrain-SMAPE:48.1708\n",
      "[500]\ttrain-rmse:53776.8\ttrain-SMAPE:48.1599\n",
      "[600]\ttrain-rmse:53776.8\ttrain-SMAPE:48.1524\n",
      "[700]\ttrain-rmse:53776.8\ttrain-SMAPE:48.1468\n",
      "[800]\ttrain-rmse:53776.8\ttrain-SMAPE:48.1422\n",
      "[900]\ttrain-rmse:53776.8\ttrain-SMAPE:48.1392\n",
      "[999]\ttrain-rmse:53776.8\ttrain-SMAPE:48.1364\n",
      "--- 887.6806653509993 seconds ---\n"
     ]
    }
   ],
   "source": [
    "start_time = timeit.default_timer()\n",
    "model_linear = xgb.train(params, dtrain, num_round, watchlist, \\\n",
    "                      verbose_eval=100,\\\n",
    "                      obj=SMAPE_train, feval=SMAPE_eval)\n",
    "print(\"--- %s seconds ---\" % (timeit.default_timer() - start_time))"
   ]
  },
  {
   "cell_type": "code",
   "execution_count": 52,
   "metadata": {},
   "outputs": [],
   "source": [
    "margin_linear = model_linear.predict(dtrain)"
   ]
  },
  {
   "cell_type": "code",
   "execution_count": 53,
   "metadata": {},
   "outputs": [],
   "source": [
    "# Data corruption when creating a a DMatrix with label being a non-contiguous ndarray #2554\n",
    "dtrain = xgb.DMatrix(np.ascontiguousarray(np.concatenate([trainData[:,1:],testData[:,1:]],0)),\\\n",
    "                     np.ascontiguousarray(np.concatenate([trainData[:,0],testData[:,0]],0)))\n",
    "dtrain.set_base_margin(np.ascontiguousarray(margin_linear))\n",
    "watchlist = [(dtrain, 'train')]"
   ]
  },
  {
   "cell_type": "code",
   "execution_count": 54,
   "metadata": {},
   "outputs": [],
   "source": [
    "num_round = 5000\n",
    "params =   {'eta': 1e-1,\n",
    "            'max_depth': 8, \n",
    "            'max_bin': 32,\n",
    "            'subsample': 0.01,\n",
    "            'colsample_bylevel': 0.75, \n",
    "            'min_child_weight':100,\n",
    "            'tree_method':'gpu_hist',\n",
    "            'gamma': 0}"
   ]
  },
  {
   "cell_type": "code",
   "execution_count": 56,
   "metadata": {},
   "outputs": [
    {
     "name": "stdout",
     "output_type": "stream",
     "text": [
      "[0]\ttrain-rmse:53776.8\ttrain-SMAPE:48.1303\n",
      "[500]\ttrain-rmse:53776.8\ttrain-SMAPE:47.141\n",
      "[1000]\ttrain-rmse:53776.8\ttrain-SMAPE:46.7705\n",
      "[1500]\ttrain-rmse:53776.8\ttrain-SMAPE:46.5474\n",
      "[2000]\ttrain-rmse:53776.8\ttrain-SMAPE:46.3921\n",
      "[2500]\ttrain-rmse:53776.8\ttrain-SMAPE:46.2803\n",
      "[3000]\ttrain-rmse:53776.8\ttrain-SMAPE:46.1924\n",
      "[3500]\ttrain-rmse:53776.8\ttrain-SMAPE:46.1477\n",
      "[4000]\ttrain-rmse:53776.8\ttrain-SMAPE:46.2271\n",
      "[4500]\ttrain-rmse:53776.8\ttrain-SMAPE:46.1765\n",
      "[4999]\ttrain-rmse:53776.8\ttrain-SMAPE:46.1405\n",
      "--- 1983.0460360879988 seconds ---\n"
     ]
    }
   ],
   "source": [
    "start_time = timeit.default_timer()\n",
    "model_gbm = xgb.train(params, dtrain, num_round, watchlist, \\\n",
    "                      verbose_eval=500,\\\n",
    "                      obj=SMAPE_train, feval=SMAPE_eval)\n",
    "print(\"--- %s seconds ---\" % (timeit.default_timer() - start_time))"
   ]
  },
  {
   "cell_type": "code",
   "execution_count": null,
   "metadata": {},
   "outputs": [],
   "source": [
    "# save model\n",
    "model_gbm.save_model('GBMs/gbm1')"
   ]
  },
  {
   "cell_type": "code",
   "execution_count": null,
   "metadata": {},
   "outputs": [],
   "source": [
    "# load model\n",
    "model_gbm = xgb.Booster()\n",
    "model_gbm.load_model('GBMs/gbm1')"
   ]
  },
  {
   "cell_type": "code",
   "execution_count": null,
   "metadata": {},
   "outputs": [],
   "source": []
  },
  {
   "cell_type": "code",
   "execution_count": null,
   "metadata": {},
   "outputs": [],
   "source": []
  },
  {
   "cell_type": "markdown",
   "metadata": {},
   "source": [
    "Make Submission"
   ]
  },
  {
   "cell_type": "code",
   "execution_count": null,
   "metadata": {},
   "outputs": [],
   "source": [
    "date_index = date_index.append(pd.Series(pd.date_range('2017-09-11','2017-11-13')))"
   ]
  },
  {
   "cell_type": "code",
   "execution_count": null,
   "metadata": {},
   "outputs": [],
   "source": [
    "date_index = date_index.reset_index(drop=True)"
   ]
  },
  {
   "cell_type": "code",
   "execution_count": null,
   "metadata": {},
   "outputs": [],
   "source": [
    "j = T\n",
    "Lookback_X = np.stack([fun(train1,j,interval) for fun in fun_list for interval in interval_list],1)\n",
    "testData = []\n",
    "testMargain = []\n",
    "mapping_index = []\n",
    "for i in range(j+2,j+64):\n",
    "    temp = np.concatenate([Page_X,\\\n",
    "                           np.broadcast_to(extract_date_info(date_index[i-1],i-j),(n,d)),\\\n",
    "                           Lookback_X,\\\n",
    "                           train1.iloc[:,j-1:j].values,\\\n",
    "                           train1.iloc[:,i-90:i-89].values,\\\n",
    "                           train1.iloc[:,i-120:i-119].values,\\\n",
    "                           train1.iloc[:,i-180:i-179].values,\\\n",
    "                           train1.iloc[:,i-365:i-364].values],1).astype(np.float32)\n",
    "\n",
    "    testData.append(temp)\n",
    "    testMargain.append(train1.iloc[:,j-1].values)\n",
    "    mapping_index.append(train1.iloc[:,0].str.cat([str(date_index[i-1])[:10]]*n,'_'))\n",
    "    \n",
    "testData = np.concatenate(testData,0)\n",
    "testMargain = np.concatenate(testMargain,0)\n",
    "mapping_index = np.concatenate(mapping_index,0)"
   ]
  },
  {
   "cell_type": "code",
   "execution_count": null,
   "metadata": {},
   "outputs": [],
   "source": [
    "# Data corruption when creating a a DMatrix with label being a non-contiguous ndarray #2554\n",
    "dtest = xgb.DMatrix(np.ascontiguousarray(testData))\n",
    "dtest.set_base_margin(np.ascontiguousarray(testMargain))"
   ]
  },
  {
   "cell_type": "code",
   "execution_count": null,
   "metadata": {},
   "outputs": [],
   "source": [
    "yhat = np.maximum(model_gbm.predict(dtest,output_margin=True),0)"
   ]
  },
  {
   "cell_type": "code",
   "execution_count": null,
   "metadata": {},
   "outputs": [],
   "source": [
    "yhat = pd.DataFrame({'Page':mapping_index,'Visits':yhat})"
   ]
  },
  {
   "cell_type": "code",
   "execution_count": null,
   "metadata": {},
   "outputs": [],
   "source": []
  },
  {
   "cell_type": "code",
   "execution_count": null,
   "metadata": {},
   "outputs": [],
   "source": [
    "key = pd.read_csv('key_2.csv')"
   ]
  },
  {
   "cell_type": "code",
   "execution_count": null,
   "metadata": {},
   "outputs": [],
   "source": [
    "key = key.merge(yhat,on='Page')"
   ]
  },
  {
   "cell_type": "code",
   "execution_count": null,
   "metadata": {},
   "outputs": [],
   "source": [
    "key.drop('Page',axis=1,inplace=True)"
   ]
  },
  {
   "cell_type": "code",
   "execution_count": null,
   "metadata": {},
   "outputs": [],
   "source": [
    "key.to_csv('Submissions/gbm1.csv',index=False)"
   ]
  },
  {
   "cell_type": "code",
   "execution_count": null,
   "metadata": {},
   "outputs": [],
   "source": []
  }
 ],
 "metadata": {
  "kernelspec": {
   "display_name": "Python 3",
   "language": "python",
   "name": "python3"
  },
  "language_info": {
   "codemirror_mode": {
    "name": "ipython",
    "version": 3
   },
   "file_extension": ".py",
   "mimetype": "text/x-python",
   "name": "python",
   "nbconvert_exporter": "python",
   "pygments_lexer": "ipython3",
   "version": "3.6.6"
  }
 },
 "nbformat": 4,
 "nbformat_minor": 2
}
