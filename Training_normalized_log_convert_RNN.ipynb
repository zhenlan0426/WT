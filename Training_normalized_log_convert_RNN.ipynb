{
 "cells": [
  {
   "cell_type": "code",
   "execution_count": 1,
   "metadata": {},
   "outputs": [],
   "source": [
    "import numpy as np\n",
    "from torch.utils.data import DataLoader\n",
    "from functions import *\n",
    "from torch.nn import GRU,Conv1d,Linear,ReLU,Sequential,MSELoss,L1Loss,LeakyReLU,Dropout2d,Dropout\n",
    "from torch.optim import Adam\n",
    "from pytorch_util import *\n",
    "from pytorch_models import ConvBatchRelu1D,GRU_NCL"
   ]
  },
  {
   "cell_type": "code",
   "execution_count": 2,
   "metadata": {},
   "outputs": [],
   "source": [
    "long_page = np.load('../Data/long_page.npy')\n",
    "long_value = np.load('../Data/long_value.npy')\n",
    "start_index = np.load('../Data/start_index.npy')\n",
    "stds = np.load('../Data/stds_log.npy')\n",
    "means = np.load('../Data/means_log.npy')\n",
    "long_normal_value = np.load('../Data/long_lognormal_value.npy')"
   ]
  },
  {
   "cell_type": "code",
   "execution_count": 3,
   "metadata": {},
   "outputs": [],
   "source": [
    "# to account for look back period 365 + 60\n",
    "start_index = start_index + 430"
   ]
  },
  {
   "cell_type": "code",
   "execution_count": 4,
   "metadata": {},
   "outputs": [],
   "source": [
    "## to change ##\n",
    "batch_size = 64\n",
    "clip = .5"
   ]
  },
  {
   "cell_type": "code",
   "execution_count": null,
   "metadata": {},
   "outputs": [],
   "source": []
  },
  {
   "cell_type": "code",
   "execution_count": 5,
   "metadata": {},
   "outputs": [],
   "source": [
    "# baseline model\n",
    "# yhat = long_normal_value[:,803-61:803-60]\n",
    "# y = long_normal_value[:,803-60:]\n",
    "# SMAPE_np(y,yhat)\n",
    "# >> 106.31\n",
    "# yhat = long_normal_value[:,803-61:803-60]\n",
    "# y = long_normal_value[:,803-60:]\n",
    "# np.mean(np.square(y - yhat))\n",
    "# >>> 1.1114173"
   ]
  },
  {
   "cell_type": "code",
   "execution_count": null,
   "metadata": {},
   "outputs": [],
   "source": []
  },
  {
   "cell_type": "code",
   "execution_count": 6,
   "metadata": {},
   "outputs": [],
   "source": [
    "# set up data loader\n",
    "train_gen = SequenceGen(long_value,long_normal_value,start_index,stds,means,useMean=True)\n",
    "train_gen = DataLoader(train_gen,batch_size,True,num_workers=3,drop_last=True)\n",
    "\n",
    "val_gen = SequenceGen(long_value,long_normal_value,start_index,stds,means,random=False,useMean=True)\n",
    "val_gen = DataLoader(val_gen,batch_size,False,num_workers=3)\n",
    "\n",
    "train_gen_nor = SequenceGenNormalized(long_normal_value,start_index)\n",
    "train_gen_nor = DataLoader(train_gen_nor,batch_size,True,num_workers=3,drop_last=True)\n",
    "\n",
    "val_gen_nor = SequenceGenNormalized(long_normal_value,start_index,random=False)\n",
    "val_gen_nor = DataLoader(val_gen_nor,batch_size)"
   ]
  },
  {
   "cell_type": "code",
   "execution_count": null,
   "metadata": {},
   "outputs": [],
   "source": []
  },
  {
   "cell_type": "code",
   "execution_count": 24,
   "metadata": {},
   "outputs": [],
   "source": [
    "rnn = Sequential(GRU_NCL(3,4,1,batch_first=True,bidirectional=True),\n",
    "                 Dropout2d(0.2),\n",
    "                 GRU_NCL(8,8,1,batch_first=True,bidirectional=True),\n",
    "                 Dropout2d(0.4),\n",
    "                 GRU_NCL(16,16,1,batch_first=True,bidirectional=True),\n",
    "                 Dropout2d(0.5),\n",
    "                 GRU_NCL(32,32,1,batch_first=True,bidirectional=True),\n",
    "                 Dropout2d(0.5),\n",
    "                 GRU_NCL(64,64,1,batch_first=True,bidirectional=True),\n",
    "                 Dropout2d(0.6))"
   ]
  },
  {
   "cell_type": "code",
   "execution_count": 25,
   "metadata": {},
   "outputs": [],
   "source": [
    "seq_model = rnn"
   ]
  },
  {
   "cell_type": "code",
   "execution_count": 26,
   "metadata": {},
   "outputs": [],
   "source": [
    "linear = Sequential(Linear(128,64),LeakyReLU(0.1,True),Dropout(0.5),Linear(64,1))"
   ]
  },
  {
   "cell_type": "code",
   "execution_count": 27,
   "metadata": {},
   "outputs": [],
   "source": [
    "convert = Sequential(Linear(120,60),LeakyReLU(0.1,True),Dropout(0.5))"
   ]
  },
  {
   "cell_type": "code",
   "execution_count": 28,
   "metadata": {},
   "outputs": [],
   "source": [
    "# model trained on normalized data\n",
    "model_nor = CNN_RNN2seq_normalized_NCL(seq_model,linear,convert).to('cuda:0')"
   ]
  },
  {
   "cell_type": "code",
   "execution_count": 29,
   "metadata": {},
   "outputs": [],
   "source": [
    "loss_func_nor = loss_func_generator_normalized(MSELoss())\n",
    "# loss_func_nor = loss_func_generator_normalized(L1Loss())\n",
    "#loss_func_nor = loss_func_generator_normalized(SMAPE)"
   ]
  },
  {
   "cell_type": "code",
   "execution_count": 30,
   "metadata": {},
   "outputs": [],
   "source": [
    "opt = Adam(trainable_parameter(model_nor),lr=1e-3)"
   ]
  },
  {
   "cell_type": "code",
   "execution_count": 31,
   "metadata": {},
   "outputs": [
    {
     "name": "stdout",
     "output_type": "stream",
     "text": [
      "epoch:0, train_loss:0.8078112511746006, val_loss:0.9527843594551086\n",
      "epoch:1, train_loss:0.7474597595207432, val_loss:0.8876733183860779\n",
      "epoch:2, train_loss:0.7343080858029232, val_loss:0.8981780409812927\n",
      "Training completed in 207.9835934638977s\n"
     ]
    }
   ],
   "source": [
    "model_nor = fit(3, model_nor, loss_func_nor, opt, train_gen_nor, val_gen_nor,clip,patience=0)"
   ]
  },
  {
   "cell_type": "code",
   "execution_count": null,
   "metadata": {},
   "outputs": [],
   "source": []
  },
  {
   "cell_type": "code",
   "execution_count": null,
   "metadata": {},
   "outputs": [],
   "source": []
  },
  {
   "cell_type": "code",
   "execution_count": 32,
   "metadata": {},
   "outputs": [],
   "source": [
    "model = CNN_RNN2seq_logNormalized_NCL(seq_model,linear,convert).to('cuda:0')"
   ]
  },
  {
   "cell_type": "code",
   "execution_count": 33,
   "metadata": {},
   "outputs": [],
   "source": [
    "opt = Adam(trainable_parameter(model),lr=1e-4)"
   ]
  },
  {
   "cell_type": "code",
   "execution_count": 34,
   "metadata": {},
   "outputs": [],
   "source": [
    "loss_func = loss_func_generator(SMAPE)"
   ]
  },
  {
   "cell_type": "code",
   "execution_count": 35,
   "metadata": {},
   "outputs": [
    {
     "name": "stdout",
     "output_type": "stream",
     "text": [
      "epoch:0, train_loss:37.02839584449412, val_loss:38.953269958496094\n",
      "epoch:1, train_loss:36.867691675492516, val_loss:39.036720275878906\n",
      "epoch:2, train_loss:36.742372248951014, val_loss:38.83615493774414\n",
      "epoch:3, train_loss:36.73258246189572, val_loss:38.561012268066406\n",
      "epoch:4, train_loss:36.65329475402832, val_loss:38.834007263183594\n",
      "Training completed in 366.2776894569397s\n"
     ]
    }
   ],
   "source": [
    "model = fit(5, model, loss_func, opt, train_gen, val_gen,clip)"
   ]
  },
  {
   "cell_type": "code",
   "execution_count": null,
   "metadata": {},
   "outputs": [],
   "source": []
  }
 ],
 "metadata": {
  "kernelspec": {
   "display_name": "Python 3",
   "language": "python",
   "name": "python3"
  },
  "language_info": {
   "codemirror_mode": {
    "name": "ipython",
    "version": 3
   },
   "file_extension": ".py",
   "mimetype": "text/x-python",
   "name": "python",
   "nbconvert_exporter": "python",
   "pygments_lexer": "ipython3",
   "version": "3.7.2"
  }
 },
 "nbformat": 4,
 "nbformat_minor": 2
}
